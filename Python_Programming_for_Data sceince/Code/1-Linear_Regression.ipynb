{
 "cells": [
  {
   "cell_type": "code",
   "execution_count": 1,
   "metadata": {
    "collapsed": true
   },
   "outputs": [],
   "source": [
    "# Simple Linear Regression\n",
    "# Importing the libraries\n",
    "import numpy as np\n",
    "import matplotlib.pyplot as plt\n",
    "import pandas as pd"
   ]
  },
  {
   "cell_type": "code",
   "execution_count": 2,
   "metadata": {},
   "outputs": [
    {
     "name": "stdout",
     "output_type": "stream",
     "text": [
      "    YearsExperience    Salary\n",
      "0               1.1   39343.0\n",
      "1               1.3   46205.0\n",
      "2               1.5   37731.0\n",
      "3               2.0   43525.0\n",
      "4               2.2   39891.0\n",
      "5               2.9   56642.0\n",
      "6               3.0   60150.0\n",
      "7               3.2   54445.0\n",
      "8               3.2   64445.0\n",
      "9               3.7   57189.0\n",
      "10              3.9   63218.0\n",
      "11              4.0   55794.0\n",
      "12              4.0   56957.0\n",
      "13              4.1   57081.0\n",
      "14              4.5   61111.0\n",
      "15              4.9   67938.0\n",
      "16              5.1   66029.0\n",
      "17              5.3   83088.0\n",
      "18              5.9   81363.0\n",
      "19              6.0   93940.0\n",
      "20              6.8   91738.0\n",
      "21              7.1   98273.0\n",
      "22              7.9  101302.0\n",
      "23              8.2  113812.0\n",
      "24              8.7  109431.0\n",
      "25              9.0  105582.0\n",
      "26              9.5  116969.0\n",
      "27              9.6  112635.0\n",
      "28             10.3  122391.0\n",
      "29             10.5  121872.0\n"
     ]
    }
   ],
   "source": [
    "# Importing the dataset\n",
    "dataset = pd.read_csv('Salary_Data.csv') ## Read the csv file and assign it to pandas dataframe\n",
    "print(dataset) ## Print the dataset"
   ]
  },
  {
   "cell_type": "code",
   "execution_count": 5,
   "metadata": {},
   "outputs": [
    {
     "name": "stdout",
     "output_type": "stream",
     "text": [
      "   YearsExperience\n",
      "0              1.1\n",
      "1              1.3\n",
      "2              1.5\n",
      "3              2.0\n",
      "4              2.2\n",
      "\n",
      "\n",
      "0    39343.0\n",
      "1    46205.0\n",
      "2    37731.0\n",
      "3    43525.0\n",
      "4    39891.0\n",
      "Name: Salary, dtype: float64\n"
     ]
    }
   ],
   "source": [
    "X = dataset.drop(['Salary'], axis=1) ## independent variable,axis=1 means column\n",
    "y = dataset.Salary ## dependant variable\n",
    "\n",
    "print(X.head())\n",
    "print(\"\\n\")\n",
    "print(y.head())"
   ]
  },
  {
   "cell_type": "code",
   "execution_count": 8,
   "metadata": {},
   "outputs": [
    {
     "name": "stdout",
     "output_type": "stream",
     "text": [
      "    YearsExperience\n",
      "22              7.9\n",
      "19              6.0\n",
      "24              8.7\n",
      "29             10.5\n",
      "3               2.0\n",
      "11              4.0\n",
      "14              4.5\n",
      "25              9.0\n",
      "7               3.2\n",
      "20              6.8\n",
      "23              8.2\n",
      "6               3.0\n",
      "17              5.3\n",
      "9               3.7\n",
      "27              9.6\n",
      "28             10.3\n",
      "2               1.5\n",
      "15              4.9\n",
      "8               3.2\n",
      "21              7.1\n",
      "12              4.0\n",
      "\n",
      "\n",
      "22    101302.0\n",
      "19     93940.0\n",
      "24    109431.0\n",
      "29    121872.0\n",
      "3      43525.0\n",
      "11     55794.0\n",
      "14     61111.0\n",
      "25    105582.0\n",
      "7      54445.0\n",
      "20     91738.0\n",
      "23    113812.0\n",
      "6      60150.0\n",
      "17     83088.0\n",
      "9      57189.0\n",
      "27    112635.0\n",
      "28    122391.0\n",
      "2      37731.0\n",
      "15     67938.0\n",
      "8      64445.0\n",
      "21     98273.0\n",
      "12     56957.0\n",
      "Name: Salary, dtype: float64\n"
     ]
    }
   ],
   "source": [
    "# Splitting the dataset into the Training set and Test set\n",
    "from sklearn.model_selection import train_test_split\n",
    "X_train, X_test, y_train, y_test = train_test_split(X, y, test_size = 0.3, random_state = 10000)\n",
    "\n",
    "print(X_train)\n",
    "print(\"\\n\")\n",
    "print(y_train)"
   ]
  },
  {
   "cell_type": "code",
   "execution_count": 9,
   "metadata": {},
   "outputs": [
    {
     "name": "stdout",
     "output_type": "stream",
     "text": [
      "    YearsExperience\n",
      "0               1.1\n",
      "18              5.9\n",
      "5               2.9\n",
      "26              9.5\n",
      "1               1.3\n",
      "13              4.1\n",
      "4               2.2\n",
      "10              3.9\n",
      "16              5.1\n",
      "\n",
      "\n",
      "0      39343.0\n",
      "18     81363.0\n",
      "5      56642.0\n",
      "26    116969.0\n",
      "1      46205.0\n",
      "13     57081.0\n",
      "4      39891.0\n",
      "10     63218.0\n",
      "16     66029.0\n",
      "Name: Salary, dtype: float64\n"
     ]
    }
   ],
   "source": [
    "print(X_test)\n",
    "print(\"\\n\")\n",
    "print(y_test)"
   ]
  },
  {
   "cell_type": "code",
   "execution_count": 10,
   "metadata": {},
   "outputs": [
    {
     "data": {
      "text/plain": [
       "LinearRegression(copy_X=True, fit_intercept=True, n_jobs=1, normalize=False)"
      ]
     },
     "execution_count": 10,
     "metadata": {},
     "output_type": "execute_result"
    }
   ],
   "source": [
    "# Fitting Simple Linear Regression to the Training set\n",
    "from sklearn.linear_model import LinearRegression\n",
    "regressor = LinearRegression()\n",
    "regressor.fit(X_train, y_train) ## Fitting my training data to the algorithm for it to understand the pattern"
   ]
  },
  {
   "cell_type": "code",
   "execution_count": 11,
   "metadata": {},
   "outputs": [
    {
     "name": "stdout",
     "output_type": "stream",
     "text": [
      "Coefficient= [9543.1721614]\n",
      "Intercept: 25510.55025160878\n"
     ]
    }
   ],
   "source": [
    "print(\"Coefficient=\",regressor.coef_)\n",
    "\n",
    "# Intercept ## Mean value of Y when X=0 [constant=when all independent variables are zero]\n",
    "print(\"Intercept:\",regressor.intercept_)"
   ]
  },
  {
   "cell_type": "code",
   "execution_count": 15,
   "metadata": {},
   "outputs": [
    {
     "name": "stdout",
     "output_type": "stream",
     "text": [
      "[ 36008.03962914  81815.26600384  53185.74951966 116170.68578487\n",
      "  37916.67406142  64637.55611333  46505.52900668  62728.92168105\n",
      "  74180.72827473]\n",
      "\n",
      "\n",
      "0      39343.0\n",
      "18     81363.0\n",
      "5      56642.0\n",
      "26    116969.0\n",
      "1      46205.0\n",
      "13     57081.0\n",
      "4      39891.0\n",
      "10     63218.0\n",
      "16     66029.0\n",
      "Name: Salary, dtype: float64\n"
     ]
    }
   ],
   "source": [
    "# Predicting the Test set results\n",
    "y_pred = regressor.predict(X_test)\n",
    "print(y_pred)\n",
    "print(\"\\n\")\n",
    "print(y_test)"
   ]
  },
  {
   "cell_type": "code",
   "execution_count": 21,
   "metadata": {},
   "outputs": [
    {
     "data": {
      "image/png": "[encoded data removed]",
      "text/plain": [
       "<Figure size 432x288 with 1 Axes>"
      ]
     },
     "metadata": {},
     "output_type": "display_data"
    },
    {
     "data": {
      "image/png": "[encoded data removed]",
      "text/plain": [
       "<Figure size 432x288 with 1 Axes>"
      ]
     },
     "metadata": {},
     "output_type": "display_data"
    }
   ],
   "source": [
    "# Visualising the Training set results\n",
    "plt.scatter(X_train, y_train, color = 'red')\n",
    "plt.plot(X_train, regressor.predict(X_train), color = 'blue')\n",
    "plt.title('Salary vs Experience (Training set)')\n",
    "plt.xlabel('Years of Experience')\n",
    "plt.ylabel('Salary')\n",
    "plt.show()\n",
    "\n",
    "# Visualising the Test set results\n",
    "plt.scatter(X_test, y_test, color = 'red')\n",
    "plt.plot(X_train, regressor.predict(X_train), color = 'blue')\n",
    "plt.title('Salary vs Experience (Test set)')\n",
    "plt.xlabel('Years of Experience')\n",
    "plt.ylabel('Salary')\n",
    "plt.show()"
   ]
  },
  {
   "cell_type": "code",
   "execution_count": 16,
   "metadata": {
    "collapsed": true
   },
   "outputs": [],
   "source": [
    "from sklearn import metrics"
   ]
  },
  {
   "cell_type": "code",
   "execution_count": 17,
   "metadata": {},
   "outputs": [
    {
     "name": "stdout",
     "output_type": "stream",
     "text": [
      "MAE: 4349.112080270824\n",
      "MSE: 28905470.087512605\n",
      "RMSE: 5376.380761024335\n"
     ]
    }
   ],
   "source": [
    "## The lower these metrics, the better the model is\n",
    "print('MAE:', metrics.mean_absolute_error(y_test, y_pred))\n",
    "print('MSE:', metrics.mean_squared_error(y_test, y_pred))\n",
    "print('RMSE:', np.sqrt(metrics.mean_squared_error(y_test, y_pred)))"
   ]
  },
  {
   "cell_type": "code",
   "execution_count": 18,
   "metadata": {},
   "outputs": [
    {
     "name": "stdout",
     "output_type": "stream",
     "text": [
      "Explained Variance Score: 0.9457385476323863\n"
     ]
    }
   ],
   "source": [
    "## Higher the Explained Variance Score, the better the model is:\n",
    "## How well our model can explain variations in the dataset\n",
    "print('Explained Variance Score:', metrics.explained_variance_score(y_test, y_pred))\n",
    "## 94.5% of the variance is explained by the model"
   ]
  },
  {
   "cell_type": "code",
   "execution_count": 19,
   "metadata": {},
   "outputs": [
    {
     "name": "stdout",
     "output_type": "stream",
     "text": [
      "r2: 0.944769876614478\n"
     ]
    }
   ],
   "source": [
    "from sklearn.metrics import r2_score \n",
    "## How well the model can explain future data\n",
    "# r2= It tells how much the regression line is close to the actual line : accuracy of my model : Higher the better\n",
    "print('r2:',r2_score(y_test, y_pred)) ## Closer to 1 means better prediction"
   ]
  },
  {
   "cell_type": "code",
   "execution_count": 20,
   "metadata": {},
   "outputs": [
    {
     "data": {
      "text/plain": [
       "array([130485.44402696])"
      ]
     },
     "execution_count": 20,
     "metadata": {},
     "output_type": "execute_result"
    }
   ],
   "source": [
    "y_pred = regressor.predict(11)\n",
    "y_pred"
   ]
  },
  {
   "cell_type": "code",
   "execution_count": null,
   "metadata": {
    "collapsed": true
   },
   "outputs": [],
   "source": [
    "#Conclusion : \n",
    "#1. I am 94.5% confident that my model has learnt variations in the data\n",
    "#2. I am 94.4% confident that the salary of the person will be (130485-5376) to (130485+5376) ie, (125109 - 135861)\n",
    "\n",
    "\n",
    "#3. 94.4% = r2, 94.5%= variance, 5376=RMSE"
   ]
  },
  {
   "cell_type": "code",
   "execution_count": null,
   "metadata": {},
   "outputs": [],
   "source": [
    "y_pred = regressor.predict(11.5)\n",
    "y_pred"
   ]
  },
  {
   "cell_type": "code",
   "execution_count": null,
   "metadata": {},
   "outputs": [],
   "source": [
    "from sklearn.linear_model import LinearRegression\n",
    "from sklearn.model_selection import cross_val_score \n",
    "regressor_kfold = LinearRegression()\n",
    "regression_avg = cross_val_score(estimator = regressor_kfold, X = X_train, y = y_train, cv = 10,scoring='neg_mean_absolute_error') \n",
    "print (\"Cross Val Mean Absolute Error\",regression_avg.mean())"
   ]
  },
  {
   "cell_type": "code",
   "execution_count": null,
   "metadata": {
    "collapsed": true
   },
   "outputs": [],
   "source": []
  }
 ],
 "metadata": {
  "kernelspec": {
   "display_name": "Python 3",
   "language": "python",
   "name": "python3"
  },
  "language_info": {
   "codemirror_mode": {
    "name": "ipython",
    "version": 3
   },
   "file_extension": ".py",
   "mimetype": "text/x-python",
   "name": "python",
   "nbconvert_exporter": "python",
   "pygments_lexer": "ipython3",
   "version": "3.6.1"
  }
 },
 "nbformat": 4,
 "nbformat_minor": 2
}
