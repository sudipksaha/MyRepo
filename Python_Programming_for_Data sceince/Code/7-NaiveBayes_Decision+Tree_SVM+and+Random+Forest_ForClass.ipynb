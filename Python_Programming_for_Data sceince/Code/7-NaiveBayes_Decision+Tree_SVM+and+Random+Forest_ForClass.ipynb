{
 "cells": [
  {
   "cell_type": "markdown",
   "metadata": {},
   "source": [
    "For this project we will be exploring publicly available data from [LendingClub.com](www.lendingclub.com). Lending Club connects people who need money (borrowers) with people who have money (investors). Hopefully, as an investor you would want to invest in people who showed a profile of having a high probability of paying you back. We will try to create a model that will help predict this.\n",
    "\n",
    "Lending club had a [very interesting year in 2016](https://en.wikipedia.org/wiki/Lending_Club#2016), so let's check out some of their data and keep the context in mind. This data is from before they even went public.\n",
    "\n",
    "We will use lending data from 2007-2010 and be trying to classify and predict whether or not the borrower paid back their loan in full. You can download the data from [here](https://www.lendingclub.com/info/download-data.action) or just use the csv already provided. It's recommended you use the csv provided as it has been cleaned of NA values.\n",
    "\n",
    "Here are what the columns represent:\n",
    "* credit.policy: 1 if the customer meets the credit underwriting criteria of LendingClub.com, and 0 otherwise.\n",
    "* purpose: The purpose of the loan (takes values \"credit_card\", \"debt_consolidation\", \"educational\", \"major_purchase\", \"small_business\", and \"all_other\").\n",
    "* int.rate: The interest rate of the loan, as a proportion (a rate of 11% would be stored as 0.11). Borrowers judged by LendingClub.com to be more risky are assigned higher interest rates.\n",
    "* installment: The monthly installments owed by the borrower if the loan is funded.\n",
    "* log.annual.inc: The natural log of the self-reported annual income of the borrower.\n",
    "* dti: The debt-to-income ratio of the borrower (amount of debt divided by annual income).\n",
    "* fico: The FICO credit score of the borrower.\n",
    "* days.with.cr.line: The number of days the borrower has had a credit line.\n",
    "* revol.bal: The borrower's revolving balance (amount unpaid at the end of the credit card billing cycle).\n",
    "* revol.util: The borrower's revolving line utilization rate (the amount of the credit line used relative to total credit available).\n",
    "* inq.last.6mths: The borrower's number of inquiries by creditors in the last 6 months.\n",
    "* delinq.2yrs: The number of times the borrower had been 30+ days past due on a payment in the past 2 years.\n",
    "* pub.rec: The borrower's number of derogatory public records (bankruptcy filings, tax liens, or judgments)."
   ]
  },
  {
   "cell_type": "markdown",
   "metadata": {},
   "source": [
    "# Import Libraries\n",
    "\n",
    "**Import the usual libraries for pandas and plotting. You can import sklearn later on.**"
   ]
  },
  {
   "cell_type": "code",
   "execution_count": 1,
   "metadata": {
    "collapsed": true
   },
   "outputs": [],
   "source": [
    "import pandas as pd\n",
    "import numpy as np\n",
    "import matplotlib.pyplot as plt\n",
    "import seaborn as sns\n",
    "%matplotlib inline"
   ]
  },
  {
   "cell_type": "markdown",
   "metadata": {},
   "source": [
    "## Get the Data\n",
    "\n",
    "** Use pandas to read loan_data.csv as a dataframe called loans.**"
   ]
  },
  {
   "cell_type": "code",
   "execution_count": 2,
   "metadata": {},
   "outputs": [
    {
     "data": {
      "text/html": [
       "<div>\n",
       "<style>\n",
       "    .dataframe thead tr:only-child th {\n",
       "        text-align: right;\n",
       "    }\n",
       "\n",
       "    .dataframe thead th {\n",
       "        text-align: left;\n",
       "    }\n",
       "\n",
       "    .dataframe tbody tr th {\n",
       "        vertical-align: top;\n",
       "    }\n",
       "</style>\n",
       "<table border=\"1\" class=\"dataframe\">\n",
       "  <thead>\n",
       "    <tr style=\"text-align: right;\">\n",
       "      <th></th>\n",
       "      <th>credit.policy</th>\n",
       "      <th>purpose</th>\n",
       "      <th>int.rate</th>\n",
       "      <th>installment</th>\n",
       "      <th>log.annual.inc</th>\n",
       "      <th>dti</th>\n",
       "      <th>fico</th>\n",
       "      <th>days.with.cr.line</th>\n",
       "      <th>revol.bal</th>\n",
       "      <th>revol.util</th>\n",
       "      <th>inq.last.6mths</th>\n",
       "      <th>delinq.2yrs</th>\n",
       "      <th>pub.rec</th>\n",
       "      <th>not.fully.paid</th>\n",
       "    </tr>\n",
       "  </thead>\n",
       "  <tbody>\n",
       "    <tr>\n",
       "      <th>0</th>\n",
       "      <td>1</td>\n",
       "      <td>debt_consolidation</td>\n",
       "      <td>0.1189</td>\n",
       "      <td>829.10</td>\n",
       "      <td>11.350407</td>\n",
       "      <td>19.48</td>\n",
       "      <td>737</td>\n",
       "      <td>5639.958333</td>\n",
       "      <td>28854</td>\n",
       "      <td>52.1</td>\n",
       "      <td>0</td>\n",
       "      <td>0</td>\n",
       "      <td>0</td>\n",
       "      <td>0</td>\n",
       "    </tr>\n",
       "    <tr>\n",
       "      <th>1</th>\n",
       "      <td>1</td>\n",
       "      <td>credit_card</td>\n",
       "      <td>0.1071</td>\n",
       "      <td>228.22</td>\n",
       "      <td>11.082143</td>\n",
       "      <td>14.29</td>\n",
       "      <td>707</td>\n",
       "      <td>2760.000000</td>\n",
       "      <td>33623</td>\n",
       "      <td>76.7</td>\n",
       "      <td>0</td>\n",
       "      <td>0</td>\n",
       "      <td>0</td>\n",
       "      <td>0</td>\n",
       "    </tr>\n",
       "    <tr>\n",
       "      <th>2</th>\n",
       "      <td>1</td>\n",
       "      <td>debt_consolidation</td>\n",
       "      <td>0.1357</td>\n",
       "      <td>366.86</td>\n",
       "      <td>10.373491</td>\n",
       "      <td>11.63</td>\n",
       "      <td>682</td>\n",
       "      <td>4710.000000</td>\n",
       "      <td>3511</td>\n",
       "      <td>25.6</td>\n",
       "      <td>1</td>\n",
       "      <td>0</td>\n",
       "      <td>0</td>\n",
       "      <td>0</td>\n",
       "    </tr>\n",
       "    <tr>\n",
       "      <th>3</th>\n",
       "      <td>1</td>\n",
       "      <td>debt_consolidation</td>\n",
       "      <td>0.1008</td>\n",
       "      <td>162.34</td>\n",
       "      <td>11.350407</td>\n",
       "      <td>8.10</td>\n",
       "      <td>712</td>\n",
       "      <td>2699.958333</td>\n",
       "      <td>33667</td>\n",
       "      <td>73.2</td>\n",
       "      <td>1</td>\n",
       "      <td>0</td>\n",
       "      <td>0</td>\n",
       "      <td>0</td>\n",
       "    </tr>\n",
       "    <tr>\n",
       "      <th>4</th>\n",
       "      <td>1</td>\n",
       "      <td>credit_card</td>\n",
       "      <td>0.1426</td>\n",
       "      <td>102.92</td>\n",
       "      <td>11.299732</td>\n",
       "      <td>14.97</td>\n",
       "      <td>667</td>\n",
       "      <td>4066.000000</td>\n",
       "      <td>4740</td>\n",
       "      <td>39.5</td>\n",
       "      <td>0</td>\n",
       "      <td>1</td>\n",
       "      <td>0</td>\n",
       "      <td>0</td>\n",
       "    </tr>\n",
       "  </tbody>\n",
       "</table>\n",
       "</div>"
      ],
      "text/plain": [
       "   credit.policy             purpose  int.rate  installment  log.annual.inc  \\\n",
       "0              1  debt_consolidation    0.1189       829.10       11.350407   \n",
       "1              1         credit_card    0.1071       228.22       11.082143   \n",
       "2              1  debt_consolidation    0.1357       366.86       10.373491   \n",
       "3              1  debt_consolidation    0.1008       162.34       11.350407   \n",
       "4              1         credit_card    0.1426       102.92       11.299732   \n",
       "\n",
       "     dti  fico  days.with.cr.line  revol.bal  revol.util  inq.last.6mths  \\\n",
       "0  19.48   737        5639.958333      28854        52.1               0   \n",
       "1  14.29   707        2760.000000      33623        76.7               0   \n",
       "2  11.63   682        4710.000000       3511        25.6               1   \n",
       "3   8.10   712        2699.958333      33667        73.2               1   \n",
       "4  14.97   667        4066.000000       4740        39.5               0   \n",
       "\n",
       "   delinq.2yrs  pub.rec  not.fully.paid  \n",
       "0            0        0               0  \n",
       "1            0        0               0  \n",
       "2            0        0               0  \n",
       "3            0        0               0  \n",
       "4            1        0               0  "
      ]
     },
     "execution_count": 2,
     "metadata": {},
     "output_type": "execute_result"
    }
   ],
   "source": [
    "df = pd.read_csv('loan_data.csv')\n",
    "df.head()"
   ]
  },
  {
   "cell_type": "code",
   "execution_count": 3,
   "metadata": {},
   "outputs": [
    {
     "name": "stdout",
     "output_type": "stream",
     "text": [
      "['purpose']\n",
      "\n",
      "\n",
      "Unique Categorical features: ['debt_consolidation' 'credit_card' 'all_other' 'home_improvement'\n",
      " 'small_business' 'major_purchase' 'educational']\n",
      "\n",
      "\n",
      "Count of Categorical features: 7\n"
     ]
    }
   ],
   "source": [
    "## Select non numerical categorical column names\n",
    "mylist = list(df.select_dtypes(include=['object']).columns)\n",
    "print(mylist)\n",
    "\n",
    "\n",
    "unique=df.purpose.unique()\n",
    "print(\"\\n\")\n",
    "print(\"Unique Categorical features:\",unique)\n",
    "\n",
    "count=df.purpose.unique().size\n",
    "print(\"\\n\")\n",
    "print(\"Count of Categorical features:\",count)"
   ]
  },
  {
   "cell_type": "code",
   "execution_count": 4,
   "metadata": {},
   "outputs": [
    {
     "data": {
      "text/html": [
       "<div>\n",
       "<style>\n",
       "    .dataframe thead tr:only-child th {\n",
       "        text-align: right;\n",
       "    }\n",
       "\n",
       "    .dataframe thead th {\n",
       "        text-align: left;\n",
       "    }\n",
       "\n",
       "    .dataframe tbody tr th {\n",
       "        vertical-align: top;\n",
       "    }\n",
       "</style>\n",
       "<table border=\"1\" class=\"dataframe\">\n",
       "  <thead>\n",
       "    <tr style=\"text-align: right;\">\n",
       "      <th></th>\n",
       "      <th>credit.policy</th>\n",
       "      <th>int.rate</th>\n",
       "      <th>installment</th>\n",
       "      <th>log.annual.inc</th>\n",
       "      <th>dti</th>\n",
       "      <th>fico</th>\n",
       "      <th>days.with.cr.line</th>\n",
       "      <th>revol.bal</th>\n",
       "      <th>revol.util</th>\n",
       "      <th>inq.last.6mths</th>\n",
       "      <th>delinq.2yrs</th>\n",
       "      <th>pub.rec</th>\n",
       "      <th>not.fully.paid</th>\n",
       "      <th>purpose_all_other</th>\n",
       "      <th>purpose_credit_card</th>\n",
       "      <th>purpose_debt_consolidation</th>\n",
       "      <th>purpose_educational</th>\n",
       "      <th>purpose_home_improvement</th>\n",
       "      <th>purpose_major_purchase</th>\n",
       "      <th>purpose_small_business</th>\n",
       "    </tr>\n",
       "  </thead>\n",
       "  <tbody>\n",
       "    <tr>\n",
       "      <th>0</th>\n",
       "      <td>1</td>\n",
       "      <td>0.1189</td>\n",
       "      <td>829.10</td>\n",
       "      <td>11.350407</td>\n",
       "      <td>19.48</td>\n",
       "      <td>737</td>\n",
       "      <td>5639.958333</td>\n",
       "      <td>28854</td>\n",
       "      <td>52.1</td>\n",
       "      <td>0</td>\n",
       "      <td>0</td>\n",
       "      <td>0</td>\n",
       "      <td>0</td>\n",
       "      <td>0</td>\n",
       "      <td>0</td>\n",
       "      <td>1</td>\n",
       "      <td>0</td>\n",
       "      <td>0</td>\n",
       "      <td>0</td>\n",
       "      <td>0</td>\n",
       "    </tr>\n",
       "    <tr>\n",
       "      <th>1</th>\n",
       "      <td>1</td>\n",
       "      <td>0.1071</td>\n",
       "      <td>228.22</td>\n",
       "      <td>11.082143</td>\n",
       "      <td>14.29</td>\n",
       "      <td>707</td>\n",
       "      <td>2760.000000</td>\n",
       "      <td>33623</td>\n",
       "      <td>76.7</td>\n",
       "      <td>0</td>\n",
       "      <td>0</td>\n",
       "      <td>0</td>\n",
       "      <td>0</td>\n",
       "      <td>0</td>\n",
       "      <td>1</td>\n",
       "      <td>0</td>\n",
       "      <td>0</td>\n",
       "      <td>0</td>\n",
       "      <td>0</td>\n",
       "      <td>0</td>\n",
       "    </tr>\n",
       "    <tr>\n",
       "      <th>2</th>\n",
       "      <td>1</td>\n",
       "      <td>0.1357</td>\n",
       "      <td>366.86</td>\n",
       "      <td>10.373491</td>\n",
       "      <td>11.63</td>\n",
       "      <td>682</td>\n",
       "      <td>4710.000000</td>\n",
       "      <td>3511</td>\n",
       "      <td>25.6</td>\n",
       "      <td>1</td>\n",
       "      <td>0</td>\n",
       "      <td>0</td>\n",
       "      <td>0</td>\n",
       "      <td>0</td>\n",
       "      <td>0</td>\n",
       "      <td>1</td>\n",
       "      <td>0</td>\n",
       "      <td>0</td>\n",
       "      <td>0</td>\n",
       "      <td>0</td>\n",
       "    </tr>\n",
       "    <tr>\n",
       "      <th>3</th>\n",
       "      <td>1</td>\n",
       "      <td>0.1008</td>\n",
       "      <td>162.34</td>\n",
       "      <td>11.350407</td>\n",
       "      <td>8.10</td>\n",
       "      <td>712</td>\n",
       "      <td>2699.958333</td>\n",
       "      <td>33667</td>\n",
       "      <td>73.2</td>\n",
       "      <td>1</td>\n",
       "      <td>0</td>\n",
       "      <td>0</td>\n",
       "      <td>0</td>\n",
       "      <td>0</td>\n",
       "      <td>0</td>\n",
       "      <td>1</td>\n",
       "      <td>0</td>\n",
       "      <td>0</td>\n",
       "      <td>0</td>\n",
       "      <td>0</td>\n",
       "    </tr>\n",
       "    <tr>\n",
       "      <th>4</th>\n",
       "      <td>1</td>\n",
       "      <td>0.1426</td>\n",
       "      <td>102.92</td>\n",
       "      <td>11.299732</td>\n",
       "      <td>14.97</td>\n",
       "      <td>667</td>\n",
       "      <td>4066.000000</td>\n",
       "      <td>4740</td>\n",
       "      <td>39.5</td>\n",
       "      <td>0</td>\n",
       "      <td>1</td>\n",
       "      <td>0</td>\n",
       "      <td>0</td>\n",
       "      <td>0</td>\n",
       "      <td>1</td>\n",
       "      <td>0</td>\n",
       "      <td>0</td>\n",
       "      <td>0</td>\n",
       "      <td>0</td>\n",
       "      <td>0</td>\n",
       "    </tr>\n",
       "  </tbody>\n",
       "</table>\n",
       "</div>"
      ],
      "text/plain": [
       "   credit.policy  int.rate  installment  log.annual.inc    dti  fico  \\\n",
       "0              1    0.1189       829.10       11.350407  19.48   737   \n",
       "1              1    0.1071       228.22       11.082143  14.29   707   \n",
       "2              1    0.1357       366.86       10.373491  11.63   682   \n",
       "3              1    0.1008       162.34       11.350407   8.10   712   \n",
       "4              1    0.1426       102.92       11.299732  14.97   667   \n",
       "\n",
       "   days.with.cr.line  revol.bal  revol.util  inq.last.6mths  delinq.2yrs  \\\n",
       "0        5639.958333      28854        52.1               0            0   \n",
       "1        2760.000000      33623        76.7               0            0   \n",
       "2        4710.000000       3511        25.6               1            0   \n",
       "3        2699.958333      33667        73.2               1            0   \n",
       "4        4066.000000       4740        39.5               0            1   \n",
       "\n",
       "   pub.rec  not.fully.paid  purpose_all_other  purpose_credit_card  \\\n",
       "0        0               0                  0                    0   \n",
       "1        0               0                  0                    1   \n",
       "2        0               0                  0                    0   \n",
       "3        0               0                  0                    0   \n",
       "4        0               0                  0                    1   \n",
       "\n",
       "   purpose_debt_consolidation  purpose_educational  purpose_home_improvement  \\\n",
       "0                           1                    0                         0   \n",
       "1                           0                    0                         0   \n",
       "2                           1                    0                         0   \n",
       "3                           1                    0                         0   \n",
       "4                           0                    0                         0   \n",
       "\n",
       "   purpose_major_purchase  purpose_small_business  \n",
       "0                       0                       0  \n",
       "1                       0                       0  \n",
       "2                       0                       0  \n",
       "3                       0                       0  \n",
       "4                       0                       0  "
      ]
     },
     "execution_count": 4,
     "metadata": {},
     "output_type": "execute_result"
    }
   ],
   "source": [
    "## Create dummy variables for non numerical categorical variables\n",
    "dummies = pd.get_dummies(df[mylist], prefix= mylist)\n",
    "#print(dummies.head())\n",
    "\n",
    "df.drop(mylist, axis=1, inplace = True) ## Drop Non numerical categorical columns\n",
    "#df.head()\n",
    "\n",
    "df=pd.concat([df,dummies], axis =1 ) ## added encoded categorical columns\n",
    "df.head()"
   ]
  },
  {
   "cell_type": "code",
   "execution_count": 5,
   "metadata": {},
   "outputs": [
    {
     "name": "stdout",
     "output_type": "stream",
     "text": [
      "0    8045\n",
      "1    1533\n",
      "Name: not.fully.paid, dtype: int64\n",
      "\n",
      "\n"
     ]
    }
   ],
   "source": [
    "print(df['not.fully.paid'].value_counts())\n",
    "print(\"\\n\")\n",
    "\n",
    "\n",
    "df=df.rename(columns={\"not.fully.paid\": \"not_fully_paid\"})"
   ]
  },
  {
   "cell_type": "markdown",
   "metadata": {},
   "source": [
    "# Upsampling Minority Data"
   ]
  },
  {
   "cell_type": "code",
   "execution_count": 6,
   "metadata": {},
   "outputs": [
    {
     "name": "stdout",
     "output_type": "stream",
     "text": [
      "<class 'pandas.core.frame.DataFrame'>\n",
      "Int64Index: 16090 entries, 8940 to 9568\n",
      "Data columns (total 20 columns):\n",
      "credit.policy                 16090 non-null int64\n",
      "int.rate                      16090 non-null float64\n",
      "installment                   16090 non-null float64\n",
      "log.annual.inc                16090 non-null float64\n",
      "dti                           16090 non-null float64\n",
      "fico                          16090 non-null int64\n",
      "days.with.cr.line             16090 non-null float64\n",
      "revol.bal                     16090 non-null int64\n",
      "revol.util                    16090 non-null float64\n",
      "inq.last.6mths                16090 non-null int64\n",
      "delinq.2yrs                   16090 non-null int64\n",
      "pub.rec                       16090 non-null int64\n",
      "not_fully_paid                16090 non-null int64\n",
      "purpose_all_other             16090 non-null uint8\n",
      "purpose_credit_card           16090 non-null uint8\n",
      "purpose_debt_consolidation    16090 non-null uint8\n",
      "purpose_educational           16090 non-null uint8\n",
      "purpose_home_improvement      16090 non-null uint8\n",
      "purpose_major_purchase        16090 non-null uint8\n",
      "purpose_small_business        16090 non-null uint8\n",
      "dtypes: float64(6), int64(7), uint8(7)\n",
      "memory usage: 1.8 MB\n"
     ]
    }
   ],
   "source": [
    "from sklearn.utils import resample\n",
    "df_majority=df[df.not_fully_paid==0] ## all rows where Not.fully.paid==0\n",
    "df_minority=df[df.not_fully_paid==1] ## all rows where Not.fully.paid==1\n",
    "\n",
    "df_minority_upsampled=resample(df_minority,replace=True,n_samples=8045)\n",
    "df_upsampled=pd.concat([df_minority_upsampled,df_majority])\n",
    "\n",
    "df_upsampled.info()"
   ]
  },
  {
   "cell_type": "code",
   "execution_count": 7,
   "metadata": {
    "collapsed": true
   },
   "outputs": [],
   "source": [
    "X_upsampled = df_upsampled.drop('not_fully_paid',1) ## This is the dependent variable\n",
    "y_upsampled=df_upsampled['not_fully_paid']\n",
    "\n",
    "X = df.drop('not_fully_paid',1) ## This is the dependent variable\n",
    "y=df['not_fully_paid']\n",
    "\n",
    "from sklearn.model_selection import train_test_split\n",
    "\n",
    "X_train, X_test, y_train, y_test = train_test_split(X, y, test_size = 0.3, random_state = 0) \n",
    "\n",
    "X_train_upsampled, X_test_upsampled, y_train_upsampled, y_test_upsampled = train_test_split(X_upsampled, y_upsampled, test_size = 0.3, \n",
    "                                                                        random_state = 0) "
   ]
  },
  {
   "cell_type": "code",
   "execution_count": 8,
   "metadata": {},
   "outputs": [
    {
     "name": "stdout",
     "output_type": "stream",
     "text": [
      "<class 'pandas.core.frame.DataFrame'>\n",
      "RangeIndex: 9578 entries, 0 to 9577\n",
      "Data columns (total 19 columns):\n",
      "credit.policy                 9578 non-null int64\n",
      "int.rate                      9578 non-null float64\n",
      "installment                   9578 non-null float64\n",
      "log.annual.inc                9578 non-null float64\n",
      "dti                           9578 non-null float64\n",
      "fico                          9578 non-null int64\n",
      "days.with.cr.line             9578 non-null float64\n",
      "revol.bal                     9578 non-null int64\n",
      "revol.util                    9578 non-null float64\n",
      "inq.last.6mths                9578 non-null int64\n",
      "delinq.2yrs                   9578 non-null int64\n",
      "pub.rec                       9578 non-null int64\n",
      "purpose_all_other             9578 non-null uint8\n",
      "purpose_credit_card           9578 non-null uint8\n",
      "purpose_debt_consolidation    9578 non-null uint8\n",
      "purpose_educational           9578 non-null uint8\n",
      "purpose_home_improvement      9578 non-null uint8\n",
      "purpose_major_purchase        9578 non-null uint8\n",
      "purpose_small_business        9578 non-null uint8\n",
      "dtypes: float64(6), int64(6), uint8(7)\n",
      "memory usage: 963.5 KB\n"
     ]
    }
   ],
   "source": [
    "X.info()"
   ]
  },
  {
   "cell_type": "code",
   "execution_count": 9,
   "metadata": {},
   "outputs": [
    {
     "name": "stdout",
     "output_type": "stream",
     "text": [
      "<class 'pandas.core.frame.DataFrame'>\n",
      "Int64Index: 16090 entries, 8940 to 9568\n",
      "Data columns (total 19 columns):\n",
      "credit.policy                 16090 non-null int64\n",
      "int.rate                      16090 non-null float64\n",
      "installment                   16090 non-null float64\n",
      "log.annual.inc                16090 non-null float64\n",
      "dti                           16090 non-null float64\n",
      "fico                          16090 non-null int64\n",
      "days.with.cr.line             16090 non-null float64\n",
      "revol.bal                     16090 non-null int64\n",
      "revol.util                    16090 non-null float64\n",
      "inq.last.6mths                16090 non-null int64\n",
      "delinq.2yrs                   16090 non-null int64\n",
      "pub.rec                       16090 non-null int64\n",
      "purpose_all_other             16090 non-null uint8\n",
      "purpose_credit_card           16090 non-null uint8\n",
      "purpose_debt_consolidation    16090 non-null uint8\n",
      "purpose_educational           16090 non-null uint8\n",
      "purpose_home_improvement      16090 non-null uint8\n",
      "purpose_major_purchase        16090 non-null uint8\n",
      "purpose_small_business        16090 non-null uint8\n",
      "dtypes: float64(6), int64(6), uint8(7)\n",
      "memory usage: 2.0 MB\n"
     ]
    }
   ],
   "source": [
    "X_upsampled.info()"
   ]
  },
  {
   "cell_type": "markdown",
   "metadata": {},
   "source": [
    "# Decision Tree"
   ]
  },
  {
   "cell_type": "code",
   "execution_count": 10,
   "metadata": {},
   "outputs": [
    {
     "name": "stdout",
     "output_type": "stream",
     "text": [
      "[[1990  416]\n",
      " [ 355  113]]\n",
      "             precision    recall  f1-score   support\n",
      "\n",
      "          0       0.85      0.83      0.84      2406\n",
      "          1       0.21      0.24      0.23       468\n",
      "\n",
      "avg / total       0.75      0.73      0.74      2874\n",
      "\n"
     ]
    }
   ],
   "source": [
    "from sklearn.tree import DecisionTreeClassifier\n",
    "classifier = DecisionTreeClassifier()\n",
    "\n",
    "classifier.fit(X_train,y_train)\n",
    "predictions = classifier.predict(X_test)\n",
    "\n",
    "from sklearn.metrics import classification_report,confusion_matrix\n",
    "print(confusion_matrix(y_test,predictions))\n",
    "print(classification_report(y_test,predictions))"
   ]
  },
  {
   "cell_type": "code",
   "execution_count": 11,
   "metadata": {},
   "outputs": [
    {
     "name": "stdout",
     "output_type": "stream",
     "text": [
      "Mean Accuracy:Decision Tree= 73.88111855630324\n",
      "Standard Deviation - Accuracy:Decision Tree= 1.2604460990858624\n"
     ]
    }
   ],
   "source": [
    "from sklearn.model_selection import cross_val_score \n",
    "\n",
    "accuracies_logistic= cross_val_score(estimator = classifier, X = X_train, y = y_train, cv = 10) \n",
    "accuracies_logistic_mean=accuracies_logistic.mean()*100\n",
    "print(\"Mean Accuracy:Decision Tree=\",accuracies_logistic_mean)\n",
    "\n",
    "accuracies_logistic_std=accuracies_logistic.std()*100\n",
    "print(\"Standard Deviation - Accuracy:Decision Tree=\",accuracies_logistic_std)"
   ]
  },
  {
   "cell_type": "markdown",
   "metadata": {},
   "source": [
    "# With upsampled data"
   ]
  },
  {
   "cell_type": "code",
   "execution_count": 12,
   "metadata": {},
   "outputs": [
    {
     "name": "stdout",
     "output_type": "stream",
     "text": [
      "[[2256  150]\n",
      " [   9  459]]\n",
      "             precision    recall  f1-score   support\n",
      "\n",
      "          0       1.00      0.94      0.97      2406\n",
      "          1       0.75      0.98      0.85       468\n",
      "\n",
      "avg / total       0.96      0.94      0.95      2874\n",
      "\n",
      "Mean Accuracy:Decision Tree= 88.55540022789562\n",
      "Standard Deviation - Accuracy:Decision Tree= 0.8574191428794734\n"
     ]
    }
   ],
   "source": [
    "from sklearn.tree import DecisionTreeClassifier\n",
    "classifier = DecisionTreeClassifier()\n",
    "\n",
    "classifier.fit(X_train_upsampled,y_train_upsampled)\n",
    "predictions = classifier.predict(X_test)\n",
    "\n",
    "from sklearn.metrics import classification_report,confusion_matrix\n",
    "print(confusion_matrix(y_test,predictions))\n",
    "print(classification_report(y_test,predictions))\n",
    "\n",
    "from sklearn.model_selection import cross_val_score \n",
    "\n",
    "accuracies_logistic= cross_val_score(estimator = classifier, X = X_train_upsampled, y = y_train_upsampled, cv = 10) \n",
    "accuracies_logistic_mean=accuracies_logistic.mean()*100\n",
    "print(\"Mean Accuracy:Decision Tree=\",accuracies_logistic_mean)\n",
    "\n",
    "accuracies_logistic_std=accuracies_logistic.std()*100\n",
    "print(\"Standard Deviation - Accuracy:Decision Tree=\",accuracies_logistic_std)"
   ]
  },
  {
   "cell_type": "markdown",
   "metadata": {},
   "source": [
    "# Check Important Features"
   ]
  },
  {
   "cell_type": "code",
   "execution_count": 13,
   "metadata": {},
   "outputs": [
    {
     "name": "stdout",
     "output_type": "stream",
     "text": [
      "                       feature  Importance Index\n",
      "2                  installment          0.139602\n",
      "7                    revol.bal          0.119999\n",
      "6            days.with.cr.line          0.115736\n",
      "8                   revol.util          0.111927\n",
      "1                     int.rate          0.106630\n",
      "4                          dti          0.102132\n",
      "3               log.annual.inc          0.100478\n",
      "5                         fico          0.056259\n",
      "0                credit.policy          0.042434\n",
      "9               inq.last.6mths          0.032040\n",
      "10                 delinq.2yrs          0.018548\n",
      "14  purpose_debt_consolidation          0.014819\n",
      "18      purpose_small_business          0.007744\n",
      "12           purpose_all_other          0.007612\n",
      "11                     pub.rec          0.006727\n",
      "13         purpose_credit_card          0.005086\n",
      "15         purpose_educational          0.004413\n",
      "16    purpose_home_improvement          0.004312\n",
      "17      purpose_major_purchase          0.003503\n"
     ]
    }
   ],
   "source": [
    "df1= pd.DataFrame()\n",
    "#df1['feature'] = df.drop(['not.fully.paid'], axis=1).columns\n",
    "df1['feature'] = X.columns\n",
    "df1['Importance Index']= classifier.feature_importances_\n",
    "print(df1.sort_values(by='Importance Index', ascending=False))"
   ]
  },
  {
   "cell_type": "markdown",
   "metadata": {},
   "source": [
    "Homework : Remove the features which are not important. Check the results"
   ]
  },
  {
   "cell_type": "markdown",
   "metadata": {},
   "source": [
    "# Random Forest"
   ]
  },
  {
   "cell_type": "code",
   "execution_count": 14,
   "metadata": {},
   "outputs": [
    {
     "name": "stderr",
     "output_type": "stream",
     "text": [
      "C:\\Users\\smukhopadhyay\\AppData\\Local\\Continuum\\anaconda3\\lib\\site-packages\\sklearn\\ensemble\\weight_boosting.py:29: DeprecationWarning: numpy.core.umath_tests is an internal NumPy module and should not be imported. It will be removed in a future NumPy release.\n",
      "  from numpy.core.umath_tests import inner1d\n"
     ]
    },
    {
     "name": "stdout",
     "output_type": "stream",
     "text": [
      "[[2375   31]\n",
      " [ 450   18]]\n",
      "             precision    recall  f1-score   support\n",
      "\n",
      "          0       0.84      0.99      0.91      2406\n",
      "          1       0.37      0.04      0.07       468\n",
      "\n",
      "avg / total       0.76      0.83      0.77      2874\n",
      "\n",
      "Mean Accuracy:Random Forest= 83.71104965173\n",
      "Standard Deviation:Random Forest= 0.6148740040045731\n"
     ]
    }
   ],
   "source": [
    "from sklearn.ensemble import RandomForestClassifier\n",
    "classifier = RandomForestClassifier(n_estimators=25) ## Hyperparameter\n",
    "classifier.fit(X_train,y_train)\n",
    "predictions = classifier.predict(X_test)\n",
    "\n",
    "\n",
    "from sklearn.metrics import classification_report,confusion_matrix\n",
    "print(confusion_matrix(y_test,predictions))\n",
    "print(classification_report(y_test,predictions))\n",
    "\n",
    "from sklearn.model_selection import cross_val_score \n",
    "\n",
    "accuracies_rf= cross_val_score(estimator = classifier, X = X_train, y = y_train, cv = 10) \n",
    "accuracies_rf_mean=accuracies_rf.mean()*100\n",
    "print(\"Mean Accuracy:Random Forest=\",accuracies_rf_mean)\n",
    "\n",
    "accuracies_rf_std=accuracies_rf.std()*100\n",
    "print(\"Standard Deviation:Random Forest=\",accuracies_rf_std)"
   ]
  },
  {
   "cell_type": "markdown",
   "metadata": {
    "collapsed": true
   },
   "source": [
    "# With Upsampled Data"
   ]
  },
  {
   "cell_type": "code",
   "execution_count": 15,
   "metadata": {},
   "outputs": [
    {
     "name": "stdout",
     "output_type": "stream",
     "text": [
      "[[2357   49]\n",
      " [  11  457]]\n",
      "             precision    recall  f1-score   support\n",
      "\n",
      "          0       1.00      0.98      0.99      2406\n",
      "          1       0.90      0.98      0.94       468\n",
      "\n",
      "avg / total       0.98      0.98      0.98      2874\n",
      "\n",
      "Mean Accuracy:Random Forest= 94.16677042274164\n",
      "Standard Deviation - Accuracy:Random Forest= 0.5739277254011015\n"
     ]
    }
   ],
   "source": [
    "from sklearn.ensemble import RandomForestClassifier\n",
    "classifier = RandomForestClassifier(n_estimators=25) ## Hyperparameter\n",
    "\n",
    "classifier.fit(X_train_upsampled,y_train_upsampled)\n",
    "predictions = classifier.predict(X_test)\n",
    "\n",
    "from sklearn.metrics import classification_report,confusion_matrix\n",
    "print(confusion_matrix(y_test,predictions))\n",
    "print(classification_report(y_test,predictions))\n",
    "\n",
    "from sklearn.model_selection import cross_val_score \n",
    "\n",
    "accuracies_rf =cross_val_score(estimator = classifier, X = X_train_upsampled, y = y_train_upsampled, cv = 10) \n",
    "accuracies_rf_mean=accuracies_rf.mean()*100\n",
    "print(\"Mean Accuracy:Random Forest=\",accuracies_rf_mean)\n",
    "\n",
    "accuracies_rf_std=accuracies_rf.std()*100\n",
    "print(\"Standard Deviation - Accuracy:Random Forest=\",accuracies_rf_std)"
   ]
  },
  {
   "cell_type": "markdown",
   "metadata": {},
   "source": [
    "# Hyperparameter Tuning of Random Forests"
   ]
  },
  {
   "cell_type": "code",
   "execution_count": 16,
   "metadata": {},
   "outputs": [
    {
     "name": "stdout",
     "output_type": "stream",
     "text": [
      "Parameters currently in use:\n",
      "\n",
      "{'bootstrap': True, 'class_weight': None, 'criterion': 'gini', 'max_depth': None, 'max_features': 'auto', 'max_leaf_nodes': None, 'min_impurity_decrease': 0.0, 'min_impurity_split': None, 'min_samples_leaf': 1, 'min_samples_split': 2, 'min_weight_fraction_leaf': 0.0, 'n_estimators': 25, 'n_jobs': 1, 'oob_score': False, 'random_state': None, 'verbose': 0, 'warm_start': False}\n",
      "\n",
      "\n",
      "{'n_estimators': [20, 65, 110, 155, 200], 'max_features': ['auto', 'sqrt'], 'max_depth': [10, 12, 15, 17, 20, None], 'min_samples_split': [2, 5, 10, 15], 'min_samples_leaf': [1, 2, 4, 10], 'bootstrap': [True, False]}\n"
     ]
    }
   ],
   "source": [
    "print('Parameters currently in use:\\n')\n",
    "print(classifier.get_params())\n",
    "print(\"\\n\")\n",
    "\n",
    "# Number of trees in random forest\n",
    "n_estimators = [int(x) for x in np.linspace(start = 20, stop = 200, num = 5)] ## play with start and stop\n",
    "\n",
    "# Number of features to consider at every split\n",
    "max_features = ['auto', 'sqrt']\n",
    "\n",
    "# Maximum number of levels in tree\n",
    "max_depth = [int(x) for x in np.linspace(10, 20, num = 5)] ## change 10,20 and 2\n",
    "max_depth.append(None)\n",
    "\n",
    "# Minimum number of samples required to split a node\n",
    "min_samples_split = [2, 5, 10,15]\n",
    "\n",
    "# Minimum number of samples required at each leaf node\n",
    "min_samples_leaf = [1, 2, 4,10]\n",
    "\n",
    "# Method of selecting samples for training each tree\n",
    "bootstrap = [True, False]\n",
    "\n",
    "# Create the random grid\n",
    "random_grid = {'n_estimators': n_estimators,\n",
    "               'max_features': max_features,\n",
    "               'max_depth': max_depth,\n",
    "               'min_samples_split': min_samples_split,\n",
    "               'min_samples_leaf': min_samples_leaf,\n",
    "               'bootstrap': bootstrap}\n",
    "\n",
    "print(random_grid)"
   ]
  },
  {
   "cell_type": "code",
   "execution_count": 17,
   "metadata": {},
   "outputs": [
    {
     "name": "stdout",
     "output_type": "stream",
     "text": [
      "Fitting 3 folds for each of 100 candidates, totalling 300 fits\n"
     ]
    },
    {
     "name": "stderr",
     "output_type": "stream",
     "text": [
      "[Parallel(n_jobs=-1)]: Done  33 tasks      | elapsed:  1.5min\n",
      "[Parallel(n_jobs=-1)]: Done 154 tasks      | elapsed:  4.2min\n",
      "[Parallel(n_jobs=-1)]: Done 300 out of 300 | elapsed:  8.1min finished\n"
     ]
    },
    {
     "name": "stdout",
     "output_type": "stream",
     "text": [
      "Best Parameters are: {'n_estimators': 155, 'min_samples_split': 10, 'min_samples_leaf': 1, 'max_features': 'sqrt', 'max_depth': None, 'bootstrap': False}\n"
     ]
    }
   ],
   "source": [
    "# Use the random grid to search for best hyperparameters\n",
    "\n",
    "# Random search of parameters, using 3 fold cross validation, \n",
    "# search across 100 different combinations, and use all available cores\n",
    "from sklearn.model_selection import RandomizedSearchCV\n",
    "\n",
    "rf_random = RandomizedSearchCV(estimator = classifier, param_distributions = random_grid, n_iter = 100, cv = 3, \n",
    "                               verbose=2, random_state=42, n_jobs = -1)\n",
    "# Fit the random search model\n",
    "rf_random.fit(X_train_upsampled,y_train_upsampled)\n",
    "print(\"Best Parameters are:\",rf_random.best_params_)"
   ]
  },
  {
   "cell_type": "code",
   "execution_count": 18,
   "metadata": {},
   "outputs": [
    {
     "name": "stdout",
     "output_type": "stream",
     "text": [
      "[[2377   29]\n",
      " [  13  455]]\n",
      "             precision    recall  f1-score   support\n",
      "\n",
      "          0       0.99      0.99      0.99      2406\n",
      "          1       0.94      0.97      0.96       468\n",
      "\n",
      "avg / total       0.99      0.99      0.99      2874\n",
      "\n"
     ]
    }
   ],
   "source": [
    "best_random = rf_random.best_estimator_\n",
    "best_random.fit(X_train_upsampled,y_train_upsampled)\n",
    "\n",
    "predictions = best_random.predict(X_test)\n",
    "\n",
    "\n",
    "from sklearn.metrics import classification_report,confusion_matrix\n",
    "print(confusion_matrix(y_test,predictions))\n",
    "print(classification_report(y_test,predictions))"
   ]
  },
  {
   "cell_type": "markdown",
   "metadata": {},
   "source": [
    "# Extra Tree Classifier"
   ]
  },
  {
   "cell_type": "code",
   "execution_count": 19,
   "metadata": {
    "collapsed": true
   },
   "outputs": [],
   "source": [
    "from sklearn.tree import DecisionTreeClassifier\n",
    "from sklearn.ensemble import ExtraTreesClassifier\n",
    "classifier = ExtraTreesClassifier(n_estimators=700,criterion= 'entropy',min_samples_split= 5,\n",
    "                            max_depth= 50, min_samples_leaf= 5) "
   ]
  },
  {
   "cell_type": "code",
   "execution_count": 20,
   "metadata": {},
   "outputs": [
    {
     "name": "stdout",
     "output_type": "stream",
     "text": [
      "[[2406    0]\n",
      " [ 468    0]]\n",
      "             precision    recall  f1-score   support\n",
      "\n",
      "          0       0.84      1.00      0.91      2406\n",
      "          1       0.00      0.00      0.00       468\n",
      "\n",
      "avg / total       0.70      0.84      0.76      2874\n",
      "\n"
     ]
    },
    {
     "name": "stderr",
     "output_type": "stream",
     "text": [
      "C:\\Users\\smukhopadhyay\\AppData\\Local\\Continuum\\anaconda3\\lib\\site-packages\\sklearn\\metrics\\classification.py:1135: UndefinedMetricWarning: Precision and F-score are ill-defined and being set to 0.0 in labels with no predicted samples.\n",
      "  'precision', 'predicted', average, warn_for)\n"
     ]
    },
    {
     "name": "stdout",
     "output_type": "stream",
     "text": [
      "Mean Accuracy:Extra Trees= [0.84053651 0.84053651 0.84053651 0.84053651 0.84053651 0.84179104\n",
      " 0.84179104 0.84179104 0.84179104 0.84155456]\n",
      "Standard Deviation:Extra Trees= 0.06073121960374362\n"
     ]
    }
   ],
   "source": [
    "classifier.fit(X_train, y_train)\n",
    "predictions = classifier.predict(X_test)\n",
    "\n",
    "from sklearn.metrics import classification_report,confusion_matrix\n",
    "print(confusion_matrix(y_test,predictions))\n",
    "print(classification_report(y_test,predictions))\n",
    "\n",
    "from sklearn.model_selection import cross_val_score \n",
    "\n",
    "accuracies_et= cross_val_score(estimator = classifier, X = X_train, y = y_train, cv = 10) \n",
    "accuracies_et_mean=accuracies_et.mean()*100\n",
    "print(\"Mean Accuracy:Extra Trees=\",accuracies_et)\n",
    "\n",
    "accuracies_et_std=accuracies_et.std()*100\n",
    "print(\"Standard Deviation:Extra Trees=\",accuracies_et_std)"
   ]
  },
  {
   "cell_type": "code",
   "execution_count": 21,
   "metadata": {},
   "outputs": [
    {
     "data": {
      "text/plain": [
       "array([0.1126431 , 0.10841196, 0.06986875, 0.06315166, 0.07229075,\n",
       "       0.10909734, 0.06006892, 0.04441186, 0.08853576, 0.09075137,\n",
       "       0.02192613, 0.02341872, 0.02238285, 0.02452572, 0.02629507,\n",
       "       0.00876445, 0.01472156, 0.01268023, 0.02605378])"
      ]
     },
     "execution_count": 21,
     "metadata": {},
     "output_type": "execute_result"
    }
   ],
   "source": [
    "classifier.feature_importances_"
   ]
  },
  {
   "cell_type": "code",
   "execution_count": 22,
   "metadata": {},
   "outputs": [
    {
     "data": {
      "text/plain": [
       "Index(['credit.policy', 'int.rate', 'installment', 'log.annual.inc', 'dti',\n",
       "       'fico', 'days.with.cr.line', 'revol.bal', 'revol.util',\n",
       "       'inq.last.6mths', 'delinq.2yrs', 'pub.rec', 'not_fully_paid',\n",
       "       'purpose_all_other', 'purpose_credit_card',\n",
       "       'purpose_debt_consolidation', 'purpose_educational',\n",
       "       'purpose_home_improvement', 'purpose_major_purchase',\n",
       "       'purpose_small_business'],\n",
       "      dtype='object')"
      ]
     },
     "execution_count": 22,
     "metadata": {},
     "output_type": "execute_result"
    }
   ],
   "source": [
    "df.columns"
   ]
  },
  {
   "cell_type": "code",
   "execution_count": 23,
   "metadata": {},
   "outputs": [
    {
     "name": "stdout",
     "output_type": "stream",
     "text": [
      "                       feature  Importance Index\n",
      "0                credit.policy          0.112643\n",
      "5                         fico          0.109097\n",
      "1                     int.rate          0.108412\n",
      "9               inq.last.6mths          0.090751\n",
      "8                   revol.util          0.088536\n",
      "4                          dti          0.072291\n",
      "2                  installment          0.069869\n",
      "3               log.annual.inc          0.063152\n",
      "6            days.with.cr.line          0.060069\n",
      "7                    revol.bal          0.044412\n",
      "14  purpose_debt_consolidation          0.026295\n",
      "18      purpose_small_business          0.026054\n",
      "13         purpose_credit_card          0.024526\n",
      "11                     pub.rec          0.023419\n",
      "12           purpose_all_other          0.022383\n",
      "10                 delinq.2yrs          0.021926\n",
      "16    purpose_home_improvement          0.014722\n",
      "17      purpose_major_purchase          0.012680\n",
      "15         purpose_educational          0.008764\n"
     ]
    }
   ],
   "source": [
    "df1= pd.DataFrame()\n",
    "#df1['feature'] = df.drop(['not.fully.paid'], axis=1).columns\n",
    "df1['feature'] = X.columns\n",
    "df1['Importance Index']= classifier.feature_importances_\n",
    "print(df1.sort_values(by='Importance Index', ascending=False))\n",
    "#filtered_data=df1['Importance Index'] >0.01\n",
    "#df1=df1[filtered_data]"
   ]
  },
  {
   "cell_type": "markdown",
   "metadata": {},
   "source": [
    "# Naive Bayes"
   ]
  },
  {
   "cell_type": "code",
   "execution_count": 24,
   "metadata": {},
   "outputs": [
    {
     "name": "stdout",
     "output_type": "stream",
     "text": [
      "[[2305  101]\n",
      " [ 423   45]]\n",
      "             precision    recall  f1-score   support\n",
      "\n",
      "          0       0.84      0.96      0.90      2406\n",
      "          1       0.31      0.10      0.15       468\n",
      "\n",
      "avg / total       0.76      0.82      0.78      2874\n",
      "\n",
      "Mean Accuracy:Random Forest= 82.18979567687217\n",
      "Standard Deviation:Random Forest= 0.5878106060881642\n"
     ]
    }
   ],
   "source": [
    "from sklearn.naive_bayes import GaussianNB\n",
    "classifier = GaussianNB()\n",
    "classifier.fit(X_train, y_train)\n",
    "predictions = classifier.predict(X_test)\n",
    "\n",
    "from sklearn.metrics import classification_report,confusion_matrix\n",
    "print(confusion_matrix(y_test,predictions))\n",
    "print(classification_report(y_test,predictions))\n",
    "\n",
    "from sklearn.model_selection import cross_val_score \n",
    "\n",
    "accuracies_logistic= cross_val_score(estimator = classifier, X = X_train, y = y_train, cv = 10) \n",
    "accuracies_logistic_mean=accuracies_logistic.mean()*100\n",
    "print(\"Mean Accuracy:Random Forest=\",accuracies_logistic_mean)\n",
    "\n",
    "accuracies_logistic_std=accuracies_logistic.std()*100\n",
    "print(\"Standard Deviation:Random Forest=\",accuracies_logistic_std)"
   ]
  },
  {
   "cell_type": "code",
   "execution_count": null,
   "metadata": {
    "collapsed": true
   },
   "outputs": [],
   "source": [
    "## Home Work: Use Upsampled data and check the result"
   ]
  },
  {
   "cell_type": "markdown",
   "metadata": {},
   "source": [
    "# Support Vector Machine"
   ]
  },
  {
   "cell_type": "code",
   "execution_count": 25,
   "metadata": {},
   "outputs": [
    {
     "name": "stdout",
     "output_type": "stream",
     "text": [
      "[[2406    0]\n",
      " [ 468    0]]\n"
     ]
    }
   ],
   "source": [
    "from sklearn.svm import SVC\n",
    "model = SVC()\n",
    "model.fit(X_train,y_train) \n",
    "predictions = model.predict(X_test)\n",
    "print(confusion_matrix(y_test,predictions))"
   ]
  },
  {
   "cell_type": "code",
   "execution_count": 26,
   "metadata": {},
   "outputs": [
    {
     "name": "stdout",
     "output_type": "stream",
     "text": [
      "Fitting 3 folds for each of 63 candidates, totalling 189 fits\n",
      "[CV] C=0.1, gamma=1, kernel=rbf ......................................\n",
      "[CV]  C=0.1, gamma=1, kernel=rbf, score=0.8411633109619687, total=   2.9s\n",
      "[CV] C=0.1, gamma=1, kernel=rbf ......................................\n"
     ]
    },
    {
     "name": "stderr",
     "output_type": "stream",
     "text": [
      "[Parallel(n_jobs=1)]: Done   1 out of   1 | elapsed:    4.6s remaining:    0.0s\n"
     ]
    },
    {
     "name": "stdout",
     "output_type": "stream",
     "text": [
      "[CV]  C=0.1, gamma=1, kernel=rbf, score=0.8411633109619687, total=   3.0s\n",
      "[CV] C=0.1, gamma=1, kernel=rbf ......................................\n"
     ]
    },
    {
     "name": "stderr",
     "output_type": "stream",
     "text": [
      "[Parallel(n_jobs=1)]: Done   2 out of   2 | elapsed:    9.6s remaining:    0.0s\n"
     ]
    },
    {
     "name": "stdout",
     "output_type": "stream",
     "text": [
      "[CV]  C=0.1, gamma=1, kernel=rbf, score=0.8410922112802148, total=   3.1s\n",
      "[CV] C=0.1, gamma=0.1, kernel=rbf ....................................\n",
      "[CV]  C=0.1, gamma=0.1, kernel=rbf, score=0.8411633109619687, total=   2.8s\n",
      "[CV] C=0.1, gamma=0.1, kernel=rbf ....................................\n",
      "[CV]  C=0.1, gamma=0.1, kernel=rbf, score=0.8411633109619687, total=   2.8s\n",
      "[CV] C=0.1, gamma=0.1, kernel=rbf ....................................\n",
      "[CV]  C=0.1, gamma=0.1, kernel=rbf, score=0.8410922112802148, total=   3.6s\n",
      "[CV] C=0.1, gamma=0.01, kernel=rbf ...................................\n",
      "[CV]  C=0.1, gamma=0.01, kernel=rbf, score=0.8411633109619687, total=   2.7s\n",
      "[CV] C=0.1, gamma=0.01, kernel=rbf ...................................\n",
      "[CV]  C=0.1, gamma=0.01, kernel=rbf, score=0.8411633109619687, total=   2.9s\n",
      "[CV] C=0.1, gamma=0.01, kernel=rbf ...................................\n",
      "[CV]  C=0.1, gamma=0.01, kernel=rbf, score=0.8410922112802148, total=   2.9s\n",
      "[CV] C=0.1, gamma=0.002, kernel=rbf ..................................\n",
      "[CV]  C=0.1, gamma=0.002, kernel=rbf, score=0.8411633109619687, total=   2.8s\n",
      "[CV] C=0.1, gamma=0.002, kernel=rbf ..................................\n",
      "[CV]  C=0.1, gamma=0.002, kernel=rbf, score=0.8411633109619687, total=   3.0s\n",
      "[CV] C=0.1, gamma=0.002, kernel=rbf ..................................\n",
      "[CV]  C=0.1, gamma=0.002, kernel=rbf, score=0.8410922112802148, total=   3.0s\n",
      "[CV] C=0.1, gamma=0.0005, kernel=rbf .................................\n",
      "[CV]  C=0.1, gamma=0.0005, kernel=rbf, score=0.8411633109619687, total=   3.2s\n",
      "[CV] C=0.1, gamma=0.0005, kernel=rbf .................................\n",
      "[CV]  C=0.1, gamma=0.0005, kernel=rbf, score=0.8411633109619687, total=   2.7s\n",
      "[CV] C=0.1, gamma=0.0005, kernel=rbf .................................\n",
      "[CV]  C=0.1, gamma=0.0005, kernel=rbf, score=0.8410922112802148, total=   2.7s\n",
      "[CV] C=0.1, gamma=0.001, kernel=rbf ..................................\n",
      "[CV]  C=0.1, gamma=0.001, kernel=rbf, score=0.8411633109619687, total=   3.0s\n",
      "[CV] C=0.1, gamma=0.001, kernel=rbf ..................................\n",
      "[CV]  C=0.1, gamma=0.001, kernel=rbf, score=0.8411633109619687, total=   2.8s\n",
      "[CV] C=0.1, gamma=0.001, kernel=rbf ..................................\n",
      "[CV]  C=0.1, gamma=0.001, kernel=rbf, score=0.8410922112802148, total=   3.7s\n",
      "[CV] C=0.1, gamma=0.0001, kernel=rbf .................................\n",
      "[CV]  C=0.1, gamma=0.0001, kernel=rbf, score=0.8411633109619687, total=   2.6s\n",
      "[CV] C=0.1, gamma=0.0001, kernel=rbf .................................\n",
      "[CV]  C=0.1, gamma=0.0001, kernel=rbf, score=0.8411633109619687, total=   2.8s\n",
      "[CV] C=0.1, gamma=0.0001, kernel=rbf .................................\n",
      "[CV]  C=0.1, gamma=0.0001, kernel=rbf, score=0.8410922112802148, total=   3.2s\n",
      "[CV] C=1, gamma=1, kernel=rbf ........................................\n",
      "[CV]  C=1, gamma=1, kernel=rbf, score=0.8411633109619687, total=   2.9s\n",
      "[CV] C=1, gamma=1, kernel=rbf ........................................\n",
      "[CV]  C=1, gamma=1, kernel=rbf, score=0.8411633109619687, total=   3.2s\n",
      "[CV] C=1, gamma=1, kernel=rbf ........................................\n",
      "[CV]  C=1, gamma=1, kernel=rbf, score=0.8410922112802148, total=   2.9s\n",
      "[CV] C=1, gamma=0.1, kernel=rbf ......................................\n",
      "[CV]  C=1, gamma=0.1, kernel=rbf, score=0.8411633109619687, total=   2.8s\n",
      "[CV] C=1, gamma=0.1, kernel=rbf ......................................\n",
      "[CV]  C=1, gamma=0.1, kernel=rbf, score=0.8411633109619687, total=   2.9s\n",
      "[CV] C=1, gamma=0.1, kernel=rbf ......................................\n",
      "[CV]  C=1, gamma=0.1, kernel=rbf, score=0.8410922112802148, total=   3.0s\n",
      "[CV] C=1, gamma=0.01, kernel=rbf .....................................\n",
      "[CV]  C=1, gamma=0.01, kernel=rbf, score=0.8411633109619687, total=   2.9s\n",
      "[CV] C=1, gamma=0.01, kernel=rbf .....................................\n",
      "[CV]  C=1, gamma=0.01, kernel=rbf, score=0.8411633109619687, total=   3.2s\n",
      "[CV] C=1, gamma=0.01, kernel=rbf .....................................\n",
      "[CV]  C=1, gamma=0.01, kernel=rbf, score=0.8410922112802148, total=   2.8s\n",
      "[CV] C=1, gamma=0.002, kernel=rbf ....................................\n",
      "[CV]  C=1, gamma=0.002, kernel=rbf, score=0.8411633109619687, total=   2.8s\n",
      "[CV] C=1, gamma=0.002, kernel=rbf ....................................\n",
      "[CV]  C=1, gamma=0.002, kernel=rbf, score=0.8411633109619687, total=   2.9s\n",
      "[CV] C=1, gamma=0.002, kernel=rbf ....................................\n",
      "[CV]  C=1, gamma=0.002, kernel=rbf, score=0.8410922112802148, total=   3.0s\n",
      "[CV] C=1, gamma=0.0005, kernel=rbf ...................................\n",
      "[CV]  C=1, gamma=0.0005, kernel=rbf, score=0.8411633109619687, total=   2.8s\n",
      "[CV] C=1, gamma=0.0005, kernel=rbf ...................................\n",
      "[CV]  C=1, gamma=0.0005, kernel=rbf, score=0.8411633109619687, total=   2.8s\n",
      "[CV] C=1, gamma=0.0005, kernel=rbf ...................................\n",
      "[CV]  C=1, gamma=0.0005, kernel=rbf, score=0.8410922112802148, total=   2.8s\n",
      "[CV] C=1, gamma=0.001, kernel=rbf ....................................\n",
      "[CV]  C=1, gamma=0.001, kernel=rbf, score=0.8411633109619687, total=   2.8s\n",
      "[CV] C=1, gamma=0.001, kernel=rbf ....................................\n",
      "[CV]  C=1, gamma=0.001, kernel=rbf, score=0.8411633109619687, total=   2.8s\n",
      "[CV] C=1, gamma=0.001, kernel=rbf ....................................\n",
      "[CV]  C=1, gamma=0.001, kernel=rbf, score=0.8410922112802148, total=   2.9s\n",
      "[CV] C=1, gamma=0.0001, kernel=rbf ...................................\n",
      "[CV]  C=1, gamma=0.0001, kernel=rbf, score=0.8416107382550335, total=   2.7s\n",
      "[CV] C=1, gamma=0.0001, kernel=rbf ...................................\n",
      "[CV]  C=1, gamma=0.0001, kernel=rbf, score=0.8416107382550335, total=   3.2s\n",
      "[CV] C=1, gamma=0.0001, kernel=rbf ...................................\n",
      "[CV]  C=1, gamma=0.0001, kernel=rbf, score=0.8397493285586393, total=   4.6s\n",
      "[CV] C=5, gamma=1, kernel=rbf ........................................\n",
      "[CV]  C=5, gamma=1, kernel=rbf, score=0.8411633109619687, total=   4.9s\n",
      "[CV] C=5, gamma=1, kernel=rbf ........................................\n",
      "[CV]  C=5, gamma=1, kernel=rbf, score=0.8411633109619687, total=   4.2s\n",
      "[CV] C=5, gamma=1, kernel=rbf ........................................\n",
      "[CV]  C=5, gamma=1, kernel=rbf, score=0.8410922112802148, total=   3.5s\n",
      "[CV] C=5, gamma=0.1, kernel=rbf ......................................\n",
      "[CV]  C=5, gamma=0.1, kernel=rbf, score=0.8411633109619687, total=   3.8s\n",
      "[CV] C=5, gamma=0.1, kernel=rbf ......................................\n",
      "[CV]  C=5, gamma=0.1, kernel=rbf, score=0.8411633109619687, total=   3.3s\n",
      "[CV] C=5, gamma=0.1, kernel=rbf ......................................\n",
      "[CV]  C=5, gamma=0.1, kernel=rbf, score=0.8410922112802148, total=   3.3s\n",
      "[CV] C=5, gamma=0.01, kernel=rbf .....................................\n",
      "[CV]  C=5, gamma=0.01, kernel=rbf, score=0.8411633109619687, total=   4.0s\n",
      "[CV] C=5, gamma=0.01, kernel=rbf .....................................\n",
      "[CV]  C=5, gamma=0.01, kernel=rbf, score=0.8411633109619687, total=   3.5s\n",
      "[CV] C=5, gamma=0.01, kernel=rbf .....................................\n",
      "[CV]  C=5, gamma=0.01, kernel=rbf, score=0.8410922112802148, total=   3.8s\n",
      "[CV] C=5, gamma=0.002, kernel=rbf ....................................\n",
      "[CV]  C=5, gamma=0.002, kernel=rbf, score=0.8411633109619687, total=   3.3s\n",
      "[CV] C=5, gamma=0.002, kernel=rbf ....................................\n",
      "[CV]  C=5, gamma=0.002, kernel=rbf, score=0.8411633109619687, total=   3.9s\n",
      "[CV] C=5, gamma=0.002, kernel=rbf ....................................\n",
      "[CV]  C=5, gamma=0.002, kernel=rbf, score=0.8410922112802148, total=   5.6s\n",
      "[CV] C=5, gamma=0.0005, kernel=rbf ...................................\n",
      "[CV]  C=5, gamma=0.0005, kernel=rbf, score=0.8411633109619687, total=   4.0s\n",
      "[CV] C=5, gamma=0.0005, kernel=rbf ...................................\n",
      "[CV]  C=5, gamma=0.0005, kernel=rbf, score=0.839821029082774, total=   4.4s\n",
      "[CV] C=5, gamma=0.0005, kernel=rbf ...................................\n",
      "[CV]  C=5, gamma=0.0005, kernel=rbf, score=0.8401969561324978, total=   4.8s\n",
      "[CV] C=5, gamma=0.001, kernel=rbf ....................................\n",
      "[CV]  C=5, gamma=0.001, kernel=rbf, score=0.8411633109619687, total=   4.4s\n",
      "[CV] C=5, gamma=0.001, kernel=rbf ....................................\n"
     ]
    },
    {
     "name": "stdout",
     "output_type": "stream",
     "text": [
      "[CV]  C=5, gamma=0.001, kernel=rbf, score=0.8411633109619687, total=   4.5s\n",
      "[CV] C=5, gamma=0.001, kernel=rbf ....................................\n",
      "[CV]  C=5, gamma=0.001, kernel=rbf, score=0.8410922112802148, total=   4.6s\n",
      "[CV] C=5, gamma=0.0001, kernel=rbf ...................................\n",
      "[CV]  C=5, gamma=0.0001, kernel=rbf, score=0.8331096196868009, total=   4.6s\n",
      "[CV] C=5, gamma=0.0001, kernel=rbf ...................................\n",
      "[CV]  C=5, gamma=0.0001, kernel=rbf, score=0.8326621923937361, total=   4.2s\n",
      "[CV] C=5, gamma=0.0001, kernel=rbf ...................................\n",
      "[CV]  C=5, gamma=0.0001, kernel=rbf, score=0.8267681289167412, total=   4.5s\n",
      "[CV] C=7, gamma=1, kernel=rbf ........................................\n",
      "[CV]  C=7, gamma=1, kernel=rbf, score=0.8411633109619687, total=   5.5s\n",
      "[CV] C=7, gamma=1, kernel=rbf ........................................\n",
      "[CV]  C=7, gamma=1, kernel=rbf, score=0.8411633109619687, total=   4.5s\n",
      "[CV] C=7, gamma=1, kernel=rbf ........................................\n",
      "[CV]  C=7, gamma=1, kernel=rbf, score=0.8410922112802148, total=   5.3s\n",
      "[CV] C=7, gamma=0.1, kernel=rbf ......................................\n",
      "[CV]  C=7, gamma=0.1, kernel=rbf, score=0.8411633109619687, total=   4.9s\n",
      "[CV] C=7, gamma=0.1, kernel=rbf ......................................\n",
      "[CV]  C=7, gamma=0.1, kernel=rbf, score=0.8411633109619687, total=   4.3s\n",
      "[CV] C=7, gamma=0.1, kernel=rbf ......................................\n",
      "[CV]  C=7, gamma=0.1, kernel=rbf, score=0.8410922112802148, total=   4.3s\n",
      "[CV] C=7, gamma=0.01, kernel=rbf .....................................\n",
      "[CV]  C=7, gamma=0.01, kernel=rbf, score=0.8411633109619687, total=   4.4s\n",
      "[CV] C=7, gamma=0.01, kernel=rbf .....................................\n",
      "[CV]  C=7, gamma=0.01, kernel=rbf, score=0.8411633109619687, total=   4.6s\n",
      "[CV] C=7, gamma=0.01, kernel=rbf .....................................\n",
      "[CV]  C=7, gamma=0.01, kernel=rbf, score=0.8410922112802148, total=   4.7s\n",
      "[CV] C=7, gamma=0.002, kernel=rbf ....................................\n",
      "[CV]  C=7, gamma=0.002, kernel=rbf, score=0.8411633109619687, total=   5.7s\n",
      "[CV] C=7, gamma=0.002, kernel=rbf ....................................\n",
      "[CV]  C=7, gamma=0.002, kernel=rbf, score=0.8411633109619687, total=   5.3s\n",
      "[CV] C=7, gamma=0.002, kernel=rbf ....................................\n",
      "[CV]  C=7, gamma=0.002, kernel=rbf, score=0.8410922112802148, total=   5.6s\n",
      "[CV] C=7, gamma=0.0005, kernel=rbf ...................................\n",
      "[CV]  C=7, gamma=0.0005, kernel=rbf, score=0.8411633109619687, total=   4.4s\n",
      "[CV] C=7, gamma=0.0005, kernel=rbf ...................................\n",
      "[CV]  C=7, gamma=0.0005, kernel=rbf, score=0.839821029082774, total=   4.6s\n",
      "[CV] C=7, gamma=0.0005, kernel=rbf ...................................\n",
      "[CV]  C=7, gamma=0.0005, kernel=rbf, score=0.8401969561324978, total=   4.6s\n",
      "[CV] C=7, gamma=0.001, kernel=rbf ....................................\n",
      "[CV]  C=7, gamma=0.001, kernel=rbf, score=0.8411633109619687, total=   4.4s\n",
      "[CV] C=7, gamma=0.001, kernel=rbf ....................................\n",
      "[CV]  C=7, gamma=0.001, kernel=rbf, score=0.8411633109619687, total=   4.1s\n",
      "[CV] C=7, gamma=0.001, kernel=rbf ....................................\n",
      "[CV]  C=7, gamma=0.001, kernel=rbf, score=0.8410922112802148, total=   4.4s\n",
      "[CV] C=7, gamma=0.0001, kernel=rbf ...................................\n",
      "[CV]  C=7, gamma=0.0001, kernel=rbf, score=0.8331096196868009, total=   4.0s\n",
      "[CV] C=7, gamma=0.0001, kernel=rbf ...................................\n",
      "[CV]  C=7, gamma=0.0001, kernel=rbf, score=0.8322147651006712, total=   3.7s\n",
      "[CV] C=7, gamma=0.0001, kernel=rbf ...................................\n",
      "[CV]  C=7, gamma=0.0001, kernel=rbf, score=0.8267681289167412, total=   4.4s\n",
      "[CV] C=8, gamma=1, kernel=rbf ........................................\n",
      "[CV]  C=8, gamma=1, kernel=rbf, score=0.8411633109619687, total=   3.3s\n",
      "[CV] C=8, gamma=1, kernel=rbf ........................................\n",
      "[CV]  C=8, gamma=1, kernel=rbf, score=0.8411633109619687, total=   4.0s\n",
      "[CV] C=8, gamma=1, kernel=rbf ........................................\n",
      "[CV]  C=8, gamma=1, kernel=rbf, score=0.8410922112802148, total=   3.9s\n",
      "[CV] C=8, gamma=0.1, kernel=rbf ......................................\n",
      "[CV]  C=8, gamma=0.1, kernel=rbf, score=0.8411633109619687, total=   5.0s\n",
      "[CV] C=8, gamma=0.1, kernel=rbf ......................................\n",
      "[CV]  C=8, gamma=0.1, kernel=rbf, score=0.8411633109619687, total=   4.1s\n",
      "[CV] C=8, gamma=0.1, kernel=rbf ......................................\n",
      "[CV]  C=8, gamma=0.1, kernel=rbf, score=0.8410922112802148, total=   4.4s\n",
      "[CV] C=8, gamma=0.01, kernel=rbf .....................................\n",
      "[CV]  C=8, gamma=0.01, kernel=rbf, score=0.8411633109619687, total=   4.0s\n",
      "[CV] C=8, gamma=0.01, kernel=rbf .....................................\n",
      "[CV]  C=8, gamma=0.01, kernel=rbf, score=0.8411633109619687, total=   3.9s\n",
      "[CV] C=8, gamma=0.01, kernel=rbf .....................................\n",
      "[CV]  C=8, gamma=0.01, kernel=rbf, score=0.8410922112802148, total=   3.9s\n",
      "[CV] C=8, gamma=0.002, kernel=rbf ....................................\n",
      "[CV]  C=8, gamma=0.002, kernel=rbf, score=0.8411633109619687, total=   4.0s\n",
      "[CV] C=8, gamma=0.002, kernel=rbf ....................................\n",
      "[CV]  C=8, gamma=0.002, kernel=rbf, score=0.8411633109619687, total=   3.9s\n",
      "[CV] C=8, gamma=0.002, kernel=rbf ....................................\n",
      "[CV]  C=8, gamma=0.002, kernel=rbf, score=0.8410922112802148, total=   4.0s\n",
      "[CV] C=8, gamma=0.0005, kernel=rbf ...................................\n",
      "[CV]  C=8, gamma=0.0005, kernel=rbf, score=0.8411633109619687, total=   3.9s\n",
      "[CV] C=8, gamma=0.0005, kernel=rbf ...................................\n",
      "[CV]  C=8, gamma=0.0005, kernel=rbf, score=0.839821029082774, total=   4.0s\n",
      "[CV] C=8, gamma=0.0005, kernel=rbf ...................................\n",
      "[CV]  C=8, gamma=0.0005, kernel=rbf, score=0.8401969561324978, total=   3.9s\n",
      "[CV] C=8, gamma=0.001, kernel=rbf ....................................\n",
      "[CV]  C=8, gamma=0.001, kernel=rbf, score=0.8411633109619687, total=   3.9s\n",
      "[CV] C=8, gamma=0.001, kernel=rbf ....................................\n",
      "[CV]  C=8, gamma=0.001, kernel=rbf, score=0.8411633109619687, total=   3.9s\n",
      "[CV] C=8, gamma=0.001, kernel=rbf ....................................\n",
      "[CV]  C=8, gamma=0.001, kernel=rbf, score=0.8410922112802148, total=   3.9s\n",
      "[CV] C=8, gamma=0.0001, kernel=rbf ...................................\n",
      "[CV]  C=8, gamma=0.0001, kernel=rbf, score=0.8331096196868009, total=   3.9s\n",
      "[CV] C=8, gamma=0.0001, kernel=rbf ...................................\n",
      "[CV]  C=8, gamma=0.0001, kernel=rbf, score=0.8322147651006712, total=   3.9s\n",
      "[CV] C=8, gamma=0.0001, kernel=rbf ...................................\n",
      "[CV]  C=8, gamma=0.0001, kernel=rbf, score=0.8267681289167412, total=   3.7s\n",
      "[CV] C=9, gamma=1, kernel=rbf ........................................\n",
      "[CV]  C=9, gamma=1, kernel=rbf, score=0.8411633109619687, total=   3.8s\n",
      "[CV] C=9, gamma=1, kernel=rbf ........................................\n",
      "[CV]  C=9, gamma=1, kernel=rbf, score=0.8411633109619687, total=   4.1s\n",
      "[CV] C=9, gamma=1, kernel=rbf ........................................\n",
      "[CV]  C=9, gamma=1, kernel=rbf, score=0.8410922112802148, total=   5.5s\n",
      "[CV] C=9, gamma=0.1, kernel=rbf ......................................\n",
      "[CV]  C=9, gamma=0.1, kernel=rbf, score=0.8411633109619687, total=   5.1s\n",
      "[CV] C=9, gamma=0.1, kernel=rbf ......................................\n",
      "[CV]  C=9, gamma=0.1, kernel=rbf, score=0.8411633109619687, total=   4.2s\n",
      "[CV] C=9, gamma=0.1, kernel=rbf ......................................\n",
      "[CV]  C=9, gamma=0.1, kernel=rbf, score=0.8410922112802148, total=   3.7s\n",
      "[CV] C=9, gamma=0.01, kernel=rbf .....................................\n",
      "[CV]  C=9, gamma=0.01, kernel=rbf, score=0.8411633109619687, total=   4.3s\n",
      "[CV] C=9, gamma=0.01, kernel=rbf .....................................\n",
      "[CV]  C=9, gamma=0.01, kernel=rbf, score=0.8411633109619687, total=   4.0s\n",
      "[CV] C=9, gamma=0.01, kernel=rbf .....................................\n",
      "[CV]  C=9, gamma=0.01, kernel=rbf, score=0.8410922112802148, total=   3.6s\n",
      "[CV] C=9, gamma=0.002, kernel=rbf ....................................\n",
      "[CV]  C=9, gamma=0.002, kernel=rbf, score=0.8411633109619687, total=   3.5s\n",
      "[CV] C=9, gamma=0.002, kernel=rbf ....................................\n"
     ]
    },
    {
     "name": "stdout",
     "output_type": "stream",
     "text": [
      "[CV]  C=9, gamma=0.002, kernel=rbf, score=0.8411633109619687, total=   3.4s\n",
      "[CV] C=9, gamma=0.002, kernel=rbf ....................................\n",
      "[CV]  C=9, gamma=0.002, kernel=rbf, score=0.8410922112802148, total=   4.7s\n",
      "[CV] C=9, gamma=0.0005, kernel=rbf ...................................\n",
      "[CV]  C=9, gamma=0.0005, kernel=rbf, score=0.8411633109619687, total=   4.5s\n",
      "[CV] C=9, gamma=0.0005, kernel=rbf ...................................\n",
      "[CV]  C=9, gamma=0.0005, kernel=rbf, score=0.839821029082774, total=   3.3s\n",
      "[CV] C=9, gamma=0.0005, kernel=rbf ...................................\n",
      "[CV]  C=9, gamma=0.0005, kernel=rbf, score=0.8401969561324978, total=   3.0s\n",
      "[CV] C=9, gamma=0.001, kernel=rbf ....................................\n",
      "[CV]  C=9, gamma=0.001, kernel=rbf, score=0.8411633109619687, total=   3.1s\n",
      "[CV] C=9, gamma=0.001, kernel=rbf ....................................\n",
      "[CV]  C=9, gamma=0.001, kernel=rbf, score=0.8411633109619687, total=   3.1s\n",
      "[CV] C=9, gamma=0.001, kernel=rbf ....................................\n",
      "[CV]  C=9, gamma=0.001, kernel=rbf, score=0.8410922112802148, total=   3.1s\n",
      "[CV] C=9, gamma=0.0001, kernel=rbf ...................................\n",
      "[CV]  C=9, gamma=0.0001, kernel=rbf, score=0.8326621923937361, total=   3.1s\n",
      "[CV] C=9, gamma=0.0001, kernel=rbf ...................................\n",
      "[CV]  C=9, gamma=0.0001, kernel=rbf, score=0.8322147651006712, total=   3.7s\n",
      "[CV] C=9, gamma=0.0001, kernel=rbf ...................................\n",
      "[CV]  C=9, gamma=0.0001, kernel=rbf, score=0.8267681289167412, total=   3.8s\n",
      "[CV] C=10, gamma=1, kernel=rbf .......................................\n",
      "[CV]  C=10, gamma=1, kernel=rbf, score=0.8411633109619687, total=   4.2s\n",
      "[CV] C=10, gamma=1, kernel=rbf .......................................\n",
      "[CV]  C=10, gamma=1, kernel=rbf, score=0.8411633109619687, total=   4.7s\n",
      "[CV] C=10, gamma=1, kernel=rbf .......................................\n",
      "[CV]  C=10, gamma=1, kernel=rbf, score=0.8410922112802148, total=   4.6s\n",
      "[CV] C=10, gamma=0.1, kernel=rbf .....................................\n",
      "[CV]  C=10, gamma=0.1, kernel=rbf, score=0.8411633109619687, total=   3.8s\n",
      "[CV] C=10, gamma=0.1, kernel=rbf .....................................\n",
      "[CV]  C=10, gamma=0.1, kernel=rbf, score=0.8411633109619687, total=   3.6s\n",
      "[CV] C=10, gamma=0.1, kernel=rbf .....................................\n",
      "[CV]  C=10, gamma=0.1, kernel=rbf, score=0.8410922112802148, total=   4.6s\n",
      "[CV] C=10, gamma=0.01, kernel=rbf ....................................\n",
      "[CV]  C=10, gamma=0.01, kernel=rbf, score=0.8411633109619687, total=   4.2s\n",
      "[CV] C=10, gamma=0.01, kernel=rbf ....................................\n",
      "[CV]  C=10, gamma=0.01, kernel=rbf, score=0.8411633109619687, total=   4.1s\n",
      "[CV] C=10, gamma=0.01, kernel=rbf ....................................\n",
      "[CV]  C=10, gamma=0.01, kernel=rbf, score=0.8410922112802148, total=   4.0s\n",
      "[CV] C=10, gamma=0.002, kernel=rbf ...................................\n",
      "[CV]  C=10, gamma=0.002, kernel=rbf, score=0.8411633109619687, total=   4.6s\n",
      "[CV] C=10, gamma=0.002, kernel=rbf ...................................\n",
      "[CV]  C=10, gamma=0.002, kernel=rbf, score=0.8411633109619687, total=   3.9s\n",
      "[CV] C=10, gamma=0.002, kernel=rbf ...................................\n",
      "[CV]  C=10, gamma=0.002, kernel=rbf, score=0.8410922112802148, total=   4.5s\n",
      "[CV] C=10, gamma=0.0005, kernel=rbf ..................................\n",
      "[CV]  C=10, gamma=0.0005, kernel=rbf, score=0.8411633109619687, total=   3.7s\n",
      "[CV] C=10, gamma=0.0005, kernel=rbf ..................................\n",
      "[CV]  C=10, gamma=0.0005, kernel=rbf, score=0.839821029082774, total=   4.3s\n",
      "[CV] C=10, gamma=0.0005, kernel=rbf ..................................\n",
      "[CV]  C=10, gamma=0.0005, kernel=rbf, score=0.8401969561324978, total=   4.3s\n",
      "[CV] C=10, gamma=0.001, kernel=rbf ...................................\n",
      "[CV]  C=10, gamma=0.001, kernel=rbf, score=0.8411633109619687, total=   3.9s\n",
      "[CV] C=10, gamma=0.001, kernel=rbf ...................................\n",
      "[CV]  C=10, gamma=0.001, kernel=rbf, score=0.8411633109619687, total=   4.2s\n",
      "[CV] C=10, gamma=0.001, kernel=rbf ...................................\n",
      "[CV]  C=10, gamma=0.001, kernel=rbf, score=0.8410922112802148, total=   3.9s\n",
      "[CV] C=10, gamma=0.0001, kernel=rbf ..................................\n",
      "[CV]  C=10, gamma=0.0001, kernel=rbf, score=0.8326621923937361, total=   3.8s\n",
      "[CV] C=10, gamma=0.0001, kernel=rbf ..................................\n",
      "[CV]  C=10, gamma=0.0001, kernel=rbf, score=0.8322147651006712, total=   3.6s\n",
      "[CV] C=10, gamma=0.0001, kernel=rbf ..................................\n",
      "[CV]  C=10, gamma=0.0001, kernel=rbf, score=0.8267681289167412, total=   3.7s\n",
      "[CV] C=100, gamma=1, kernel=rbf ......................................\n",
      "[CV]  C=100, gamma=1, kernel=rbf, score=0.8411633109619687, total=   3.7s\n",
      "[CV] C=100, gamma=1, kernel=rbf ......................................\n",
      "[CV]  C=100, gamma=1, kernel=rbf, score=0.8411633109619687, total=   4.0s\n",
      "[CV] C=100, gamma=1, kernel=rbf ......................................\n",
      "[CV]  C=100, gamma=1, kernel=rbf, score=0.8410922112802148, total=   4.1s\n",
      "[CV] C=100, gamma=0.1, kernel=rbf ....................................\n",
      "[CV]  C=100, gamma=0.1, kernel=rbf, score=0.8411633109619687, total=   3.3s\n",
      "[CV] C=100, gamma=0.1, kernel=rbf ....................................\n",
      "[CV]  C=100, gamma=0.1, kernel=rbf, score=0.8411633109619687, total=   3.1s\n",
      "[CV] C=100, gamma=0.1, kernel=rbf ....................................\n",
      "[CV]  C=100, gamma=0.1, kernel=rbf, score=0.8410922112802148, total=   3.5s\n",
      "[CV] C=100, gamma=0.01, kernel=rbf ...................................\n",
      "[CV]  C=100, gamma=0.01, kernel=rbf, score=0.8411633109619687, total=   3.8s\n",
      "[CV] C=100, gamma=0.01, kernel=rbf ...................................\n",
      "[CV]  C=100, gamma=0.01, kernel=rbf, score=0.8411633109619687, total=   4.7s\n",
      "[CV] C=100, gamma=0.01, kernel=rbf ...................................\n",
      "[CV]  C=100, gamma=0.01, kernel=rbf, score=0.8410922112802148, total=   4.1s\n",
      "[CV] C=100, gamma=0.002, kernel=rbf ..................................\n",
      "[CV]  C=100, gamma=0.002, kernel=rbf, score=0.8411633109619687, total=   5.0s\n",
      "[CV] C=100, gamma=0.002, kernel=rbf ..................................\n",
      "[CV]  C=100, gamma=0.002, kernel=rbf, score=0.8411633109619687, total=   3.9s\n",
      "[CV] C=100, gamma=0.002, kernel=rbf ..................................\n",
      "[CV]  C=100, gamma=0.002, kernel=rbf, score=0.8410922112802148, total=   4.2s\n",
      "[CV] C=100, gamma=0.0005, kernel=rbf .................................\n",
      "[CV]  C=100, gamma=0.0005, kernel=rbf, score=0.8411633109619687, total=   4.4s\n",
      "[CV] C=100, gamma=0.0005, kernel=rbf .................................\n",
      "[CV]  C=100, gamma=0.0005, kernel=rbf, score=0.839821029082774, total=   4.6s\n",
      "[CV] C=100, gamma=0.0005, kernel=rbf .................................\n",
      "[CV]  C=100, gamma=0.0005, kernel=rbf, score=0.8401969561324978, total=   3.6s\n",
      "[CV] C=100, gamma=0.001, kernel=rbf ..................................\n",
      "[CV]  C=100, gamma=0.001, kernel=rbf, score=0.8411633109619687, total=   4.0s\n",
      "[CV] C=100, gamma=0.001, kernel=rbf ..................................\n",
      "[CV]  C=100, gamma=0.001, kernel=rbf, score=0.8411633109619687, total=   3.7s\n",
      "[CV] C=100, gamma=0.001, kernel=rbf ..................................\n",
      "[CV]  C=100, gamma=0.001, kernel=rbf, score=0.8410922112802148, total=   3.8s\n",
      "[CV] C=100, gamma=0.0001, kernel=rbf .................................\n",
      "[CV]  C=100, gamma=0.0001, kernel=rbf, score=0.8326621923937361, total=   4.1s\n",
      "[CV] C=100, gamma=0.0001, kernel=rbf .................................\n",
      "[CV]  C=100, gamma=0.0001, kernel=rbf, score=0.8322147651006712, total=   6.2s\n",
      "[CV] C=100, gamma=0.0001, kernel=rbf .................................\n",
      "[CV]  C=100, gamma=0.0001, kernel=rbf, score=0.8267681289167412, total=   8.6s\n",
      "[CV] C=1000, gamma=1, kernel=rbf .....................................\n",
      "[CV]  C=1000, gamma=1, kernel=rbf, score=0.8411633109619687, total=   6.4s\n",
      "[CV] C=1000, gamma=1, kernel=rbf .....................................\n",
      "[CV]  C=1000, gamma=1, kernel=rbf, score=0.8411633109619687, total=   5.1s\n",
      "[CV] C=1000, gamma=1, kernel=rbf .....................................\n",
      "[CV]  C=1000, gamma=1, kernel=rbf, score=0.8410922112802148, total=   9.9s\n",
      "[CV] C=1000, gamma=0.1, kernel=rbf ...................................\n"
     ]
    },
    {
     "name": "stdout",
     "output_type": "stream",
     "text": [
      "[CV]  C=1000, gamma=0.1, kernel=rbf, score=0.8411633109619687, total=   7.8s\n",
      "[CV] C=1000, gamma=0.1, kernel=rbf ...................................\n",
      "[CV]  C=1000, gamma=0.1, kernel=rbf, score=0.8411633109619687, total=   3.3s\n",
      "[CV] C=1000, gamma=0.1, kernel=rbf ...................................\n",
      "[CV]  C=1000, gamma=0.1, kernel=rbf, score=0.8410922112802148, total=   3.2s\n",
      "[CV] C=1000, gamma=0.01, kernel=rbf ..................................\n",
      "[CV]  C=1000, gamma=0.01, kernel=rbf, score=0.8411633109619687, total=   3.2s\n",
      "[CV] C=1000, gamma=0.01, kernel=rbf ..................................\n",
      "[CV]  C=1000, gamma=0.01, kernel=rbf, score=0.8411633109619687, total=   3.2s\n",
      "[CV] C=1000, gamma=0.01, kernel=rbf ..................................\n",
      "[CV]  C=1000, gamma=0.01, kernel=rbf, score=0.8410922112802148, total=   3.7s\n",
      "[CV] C=1000, gamma=0.002, kernel=rbf .................................\n",
      "[CV]  C=1000, gamma=0.002, kernel=rbf, score=0.8411633109619687, total=   3.3s\n",
      "[CV] C=1000, gamma=0.002, kernel=rbf .................................\n",
      "[CV]  C=1000, gamma=0.002, kernel=rbf, score=0.8411633109619687, total=   3.3s\n",
      "[CV] C=1000, gamma=0.002, kernel=rbf .................................\n",
      "[CV]  C=1000, gamma=0.002, kernel=rbf, score=0.8410922112802148, total=   3.7s\n",
      "[CV] C=1000, gamma=0.0005, kernel=rbf ................................\n",
      "[CV]  C=1000, gamma=0.0005, kernel=rbf, score=0.8411633109619687, total=   3.2s\n",
      "[CV] C=1000, gamma=0.0005, kernel=rbf ................................\n",
      "[CV]  C=1000, gamma=0.0005, kernel=rbf, score=0.839821029082774, total=   3.2s\n",
      "[CV] C=1000, gamma=0.0005, kernel=rbf ................................\n",
      "[CV]  C=1000, gamma=0.0005, kernel=rbf, score=0.8401969561324978, total=   3.2s\n",
      "[CV] C=1000, gamma=0.001, kernel=rbf .................................\n",
      "[CV]  C=1000, gamma=0.001, kernel=rbf, score=0.8411633109619687, total=   3.2s\n",
      "[CV] C=1000, gamma=0.001, kernel=rbf .................................\n",
      "[CV]  C=1000, gamma=0.001, kernel=rbf, score=0.8411633109619687, total=   3.5s\n",
      "[CV] C=1000, gamma=0.001, kernel=rbf .................................\n",
      "[CV]  C=1000, gamma=0.001, kernel=rbf, score=0.8410922112802148, total=   4.2s\n",
      "[CV] C=1000, gamma=0.0001, kernel=rbf ................................\n",
      "[CV]  C=1000, gamma=0.0001, kernel=rbf, score=0.8326621923937361, total=   3.7s\n",
      "[CV] C=1000, gamma=0.0001, kernel=rbf ................................\n",
      "[CV]  C=1000, gamma=0.0001, kernel=rbf, score=0.8322147651006712, total=   9.1s\n",
      "[CV] C=1000, gamma=0.0001, kernel=rbf ................................\n",
      "[CV]  C=1000, gamma=0.0001, kernel=rbf, score=0.8267681289167412, total=   9.0s\n"
     ]
    },
    {
     "name": "stderr",
     "output_type": "stream",
     "text": [
      "[Parallel(n_jobs=1)]: Done 189 out of 189 | elapsed: 19.7min finished\n"
     ]
    },
    {
     "data": {
      "text/plain": [
       "GridSearchCV(cv=None, error_score='raise',\n",
       "       estimator=SVC(C=1.0, cache_size=200, class_weight=None, coef0=0.0,\n",
       "  decision_function_shape='ovr', degree=3, gamma='auto', kernel='rbf',\n",
       "  max_iter=-1, probability=False, random_state=None, shrinking=True,\n",
       "  tol=0.001, verbose=False),\n",
       "       fit_params=None, iid=True, n_jobs=1,\n",
       "       param_grid={'C': [0.1, 1, 5, 7, 8, 9, 10, 100, 1000], 'gamma': [1, 0.1, 0.01, 0.002, 0.0005, 0.001, 0.0001], 'kernel': ['rbf']},\n",
       "       pre_dispatch='2*n_jobs', refit=True, return_train_score='warn',\n",
       "       scoring=None, verbose=3)"
      ]
     },
     "execution_count": 26,
     "metadata": {},
     "output_type": "execute_result"
    }
   ],
   "source": [
    "param_grid = {'C': [0.1,1,5,7,8,9,10, 100, 1000], 'gamma': [1,0.1,0.01,0.002,0.0005,0.001,0.0001], 'kernel': ['rbf']} \n",
    "from sklearn.model_selection import GridSearchCV\n",
    "grid = GridSearchCV(SVC(),param_grid,refit=True,verbose=3)\n",
    "# May take awhile!\n",
    "grid.fit(X_train,y_train)"
   ]
  },
  {
   "cell_type": "code",
   "execution_count": 27,
   "metadata": {},
   "outputs": [
    {
     "name": "stdout",
     "output_type": "stream",
     "text": [
      "{'C': 0.1, 'gamma': 1, 'kernel': 'rbf'}\n",
      "SVC(C=0.1, cache_size=200, class_weight=None, coef0=0.0,\n",
      "  decision_function_shape='ovr', degree=3, gamma=1, kernel='rbf',\n",
      "  max_iter=-1, probability=False, random_state=None, shrinking=True,\n",
      "  tol=0.001, verbose=False)\n",
      "[[2406    0]\n",
      " [ 468    0]]\n"
     ]
    }
   ],
   "source": [
    "print(grid.best_params_)\n",
    "print(grid.best_estimator_)\n",
    "\n",
    "#model=SVC(C=0.1, cache_size=200, class_weight=None, coef0=0.0,\n",
    " # decision_function_shape='ovr', degree=3, gamma=1, kernel='rbf',\n",
    " # max_iter=-1, probability=False, random_state=None, shrinking=True,\n",
    " # tol=0.001, verbose=False)\n",
    "\n",
    "\n",
    "predictions = grid.predict(X_test)\n",
    "print(confusion_matrix(y_test,predictions))"
   ]
  },
  {
   "cell_type": "code",
   "execution_count": 28,
   "metadata": {},
   "outputs": [
    {
     "name": "stdout",
     "output_type": "stream",
     "text": [
      "[[   0 2406]\n",
      " [   0  468]]\n",
      "             precision    recall  f1-score   support\n",
      "\n",
      "          0       0.00      0.00      0.00      2406\n",
      "          1       0.16      1.00      0.28       468\n",
      "\n",
      "avg / total       0.03      0.16      0.05      2874\n",
      "\n"
     ]
    },
    {
     "name": "stderr",
     "output_type": "stream",
     "text": [
      "C:\\Users\\smukhopadhyay\\AppData\\Local\\Continuum\\anaconda3\\lib\\site-packages\\sklearn\\metrics\\classification.py:1135: UndefinedMetricWarning: Precision and F-score are ill-defined and being set to 0.0 in labels with no predicted samples.\n",
      "  'precision', 'predicted', average, warn_for)\n"
     ]
    }
   ],
   "source": [
    "model=SVC(C=0.1, cache_size=200, class_weight=None, coef0=0.0,\n",
    "  decision_function_shape='ovr', degree=3, gamma=1, kernel='rbf',\n",
    "  max_iter=-1, probability=False, random_state=None, shrinking=True,\n",
    "  tol=0.001, verbose=False)\n",
    "\n",
    "model.fit(X_train_upsampled,y_train_upsampled)\n",
    "predictions = model.predict(X_test)\n",
    "\n",
    "from sklearn.metrics import classification_report,confusion_matrix\n",
    "print(confusion_matrix(y_test,predictions))\n",
    "print(classification_report(y_test,predictions))"
   ]
  }
 ],
 "metadata": {
  "kernelspec": {
   "display_name": "Python 3",
   "language": "python",
   "name": "python3"
  },
  "language_info": {
   "codemirror_mode": {
    "name": "ipython",
    "version": 3
   },
   "file_extension": ".py",
   "mimetype": "text/x-python",
   "name": "python",
   "nbconvert_exporter": "python",
   "pygments_lexer": "ipython3",
   "version": "3.6.1"
  }
 },
 "nbformat": 4,
 "nbformat_minor": 1
}
